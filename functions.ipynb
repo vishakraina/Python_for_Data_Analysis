{
 "cells": [
  {
   "cell_type": "code",
   "execution_count": null,
   "id": "eb6108df",
   "metadata": {},
   "outputs": [],
   "source": [
    "# 1. Even or Odd (Traditional Function)\n",
    "x = 110  # Assign a number to variable x\n",
    "if x % 2 == 0:  # Check if x is divisible by 2\n",
    "    print(x, \"is an even number\")  # Output if the condition is True\n",
    "else:\n",
    "    print(x, \"is an odd number\")  # Output if the condition is False\n",
    "# Output: 110 is an even number"
   ]
  },
  {
   "cell_type": "code",
   "execution_count": null,
   "id": "4c7df701",
   "metadata": {},
   "outputs": [
    {
     "name": "stdout",
     "output_type": "stream",
     "text": [
      "110 is an even number\n"
     ]
    }
   ],
   "source": [
    "# 2. Even or Odd (User-Defined Function)\n",
    "def even_odd(num):  # Define a function that accepts one argument\n",
    "    if num % 2 == 0:  # Check divisibility by 2\n",
    "        print(num, \"is an even number\")  # Print if even\n",
    "    else:\n",
    "        print(num, \"is an odd number\")  # Print if odd\n",
    "\n",
    "even_odd(106)  # Output: 106 is an even number\n",
    "even_odd(101)  # Output: 101 is an odd number\n",
    "even_odd(13)   # Output: 13 is an odd number"
   ]
  },
  {
   "cell_type": "code",
   "execution_count": 7,
   "id": "8b40b968",
   "metadata": {},
   "outputs": [
    {
     "name": "stdout",
     "output_type": "stream",
     "text": [
      "20\n",
      "15\n"
     ]
    }
   ],
   "source": [
    "# 3. Sum of Two Numbers (With Type Conversion)\n",
    "def sum_two_numbers(a, b=10):  # Define function with one default parameter b=10\n",
    "    a = int(a)  # Convert first argument to integer\n",
    "    b = int(b)  # Convert second argument to integer\n",
    "    return a + b  # Return their sum\n",
    "\n",
    "print(sum_two_numbers(15, '5'))  # Output: 20 (15 + 5)\n",
    "print(sum_two_numbers(5))        # Output: 15 (5 + 10 uses default value)"
   ]
  },
  {
   "cell_type": "code",
   "execution_count": 17,
   "id": "542a4946",
   "metadata": {},
   "outputs": [
    {
     "name": "stdout",
     "output_type": "stream",
     "text": [
      "6\n",
      "24\n",
      "720\n"
     ]
    }
   ],
   "source": [
    "# 4. Factorial Function\n",
    "def fact_number(n):  # Define a function to find factorial\n",
    "    fact = 1  # Initialize factorial variable\n",
    "    for i in range(1, n + 1):  # Loop from 1 to n\n",
    "        fact = fact * i  # Multiply each number to compute factorial\n",
    "    return fact  # Return factorial result\n",
    "\n",
    "print(fact_number(3))  # Output: 6 (3 * 2 * 1)\n",
    "print(fact_number(4))  # Output: 24 (4 * 3 * 2 * 1)\n",
    "print(fact_number(6))  # Output: 720 (6 * 5 * 4 * 3 * 2 * 1)"
   ]
  },
  {
   "cell_type": "code",
   "execution_count": null,
   "id": "8ff623cd",
   "metadata": {},
   "outputs": [
    {
     "data": {
      "text/plain": [
       "120"
      ]
     },
     "execution_count": 16,
     "metadata": {},
     "output_type": "execute_result"
    }
   ],
   "source": [
    "# 5. Sum of Natural Numbers\n",
    "def sum_natural(n):  # Define function to calculate sum of natural numbers\n",
    "    num = 0  # Initialize sum\n",
    "    for i in range(1, n + 1):  # Loop through 1 to n\n",
    "        num = num + i  # Add each number to sum\n",
    "    return num  # Return total sum\n",
    "\n",
    "print(sum_natural(3))  # Output: 6 (1 + 2 + 3)\n",
    "print(sum_natural(5))  # Output: 15 (1 + 2 + 3 + 4 + 5)\n",
    "print(sum_natural(6))  # Output: 21 (1 + 2 + 3 + 4 + 5 + 6)"
   ]
  },
  {
   "cell_type": "code",
   "execution_count": 19,
   "id": "137ef06d",
   "metadata": {},
   "outputs": [
    {
     "name": "stdout",
     "output_type": "stream",
     "text": [
      "name:  Ravi\n",
      "age:  25\n",
      "name:  Ravi\n",
      "age:  30\n"
     ]
    }
   ],
   "source": [
    "# 6. Function with Default Argument\n",
    "def func_1(name, age=30):  # Define function with default parameter 'age'\n",
    "    print(\"name: \", name)  # Print name\n",
    "    print(\"age: \", age)  # Print age (default 30 if not provided)\n",
    "\n",
    "func_1(\"Ravi\", 25)  # Output: name: Ravi, age: 25\n",
    "func_1(\"Ravi\")      # Output: name: Ravi, age: 30 (uses default)"
   ]
  },
  {
   "cell_type": "code",
   "execution_count": null,
   "id": "c7707ed4",
   "metadata": {},
   "outputs": [
    {
     "name": "stdout",
     "output_type": "stream",
     "text": [
      "name:  Ravi\n",
      "age: 25\n",
      "name:  Ravi\n",
      "age: 30\n"
     ]
    }
   ],
   "source": [
    "# 7. Lambda Function: Add 10\n",
    "x = lambda a: a + 10  # Define anonymous function to add 10 to a number\n",
    "print(x(25))  # Output: 35 (25 + 10)\n",
    "print(x(15))  # Output: 25 (15 + 10)"
   ]
  },
  {
   "cell_type": "code",
   "execution_count": null,
   "id": "80423ca4",
   "metadata": {},
   "outputs": [
    {
     "name": "stdout",
     "output_type": "stream",
     "text": [
      "35\n"
     ]
    }
   ],
   "source": [
    "# 8. Lambda Function: Even or Odd\n",
    "x = lambda a: \"This is an even number\" if a % 2 == 0 else \"This is an Odd number\"  # Lambda with conditional logic\n",
    "print(x(100))  # Output: This is an even number\n",
    "print(x(105))  # Output: This is an Odd number"
   ]
  },
  {
   "cell_type": "code",
   "execution_count": null,
   "id": "8ad8fb2d",
   "metadata": {},
   "outputs": [
    {
     "name": "stdout",
     "output_type": "stream",
     "text": [
      "This is odd number\n"
     ]
    }
   ],
   "source": [
    "# 9. Lambda Function: Add Two Integers\n",
    "x = lambda a, b: a + b  # Lambda function that adds two integers\n",
    "print(x(4, 5))  # Output: 9 (4 + 5)"
   ]
  },
  {
   "cell_type": "code",
   "execution_count": 37,
   "id": "f3451ffe",
   "metadata": {},
   "outputs": [
    {
     "name": "stdout",
     "output_type": "stream",
     "text": [
      "25\n"
     ]
    }
   ],
   "source": [
    "# 10. Lambda Function: Multiply Two Integers\n",
    "x = lambda a, b: a * b  # Lambda function that multiplies two integers\n",
    "print(x(5, 5))  # Output: 25 (5 * 5)"
   ]
  }
 ],
 "metadata": {
  "kernelspec": {
   "display_name": "Python 3",
   "language": "python",
   "name": "python3"
  },
  "language_info": {
   "codemirror_mode": {
    "name": "ipython",
    "version": 3
   },
   "file_extension": ".py",
   "mimetype": "text/x-python",
   "name": "python",
   "nbconvert_exporter": "python",
   "pygments_lexer": "ipython3",
   "version": "3.12.0"
  }
 },
 "nbformat": 4,
 "nbformat_minor": 5
}
