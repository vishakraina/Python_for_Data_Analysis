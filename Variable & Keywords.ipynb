{
 "cells": [
  {
   "cell_type": "code",
   "execution_count": null,
   "metadata": {},
   "outputs": [
    {
     "name": "stdout",
     "output_type": "stream",
     "text": [
      "10\n"
     ]
    }
   ],
   "source": [
    "# 1. Basic Variable Assignment and Printing\n",
    "\n",
    "x = 10                # Assign the integer value 10 to variable 'x'\n",
    "print(x)              # Print the value of 'x' → Output: 10\n"
   ]
  },
  {
   "cell_type": "code",
   "execution_count": null,
   "metadata": {},
   "outputs": [
    {
     "name": "stdout",
     "output_type": "stream",
     "text": [
      "<class 'int'>\n"
     ]
    }
   ],
   "source": [
    "# 2. Checking Variable Type\n",
    "\n",
    "type(x)               # Check the data type of variable 'x' → Output: <class 'int'>\n",
    "print(type(x))        # Print the data type of 'x' → Output: <class 'int'>\n"
   ]
  },
  {
   "cell_type": "code",
   "execution_count": null,
   "metadata": {},
   "outputs": [
    {
     "name": "stdout",
     "output_type": "stream",
     "text": [
      "10\n",
      "<class 'int'>\n"
     ]
    }
   ],
   "source": [
    "# 3. Variable Assignment and Printing Integer\n",
    "\n",
    "x = 10                # Assign the integer value 10 to variable 'x'\n",
    "print(x)              # Print the value of 'x' → Output: 10\n",
    "print(type(x))        # Print the data type of 'x' → Output: <class 'int'>\n"
   ]
  },
  {
   "cell_type": "code",
   "execution_count": null,
   "metadata": {},
   "outputs": [
    {
     "name": "stdout",
     "output_type": "stream",
     "text": [
      "33\n"
     ]
    },
    {
     "data": {
      "text/plain": [
       "int"
      ]
     },
     "execution_count": 66,
     "metadata": {},
     "output_type": "execute_result"
    }
   ],
   "source": [
    "# 4. Variable Assignment and Printing Integer\n",
    "\n",
    "my_age = 33           # Assign the integer value 33 to variable 'my_age'\n",
    "my_age                 # Display the value of 'my_age' in interactive environments → Output: 33\n",
    "print(my_age)         # Print the value of 'my_age' → Output: 33\n",
    "type(my_age)          # Check the data type of 'my_age' → Output: <class 'int'>\n"
   ]
  },
  {
   "cell_type": "code",
   "execution_count": null,
   "metadata": {},
   "outputs": [
    {
     "name": "stdout",
     "output_type": "stream",
     "text": [
      "<class 'str'>\n"
     ]
    }
   ],
   "source": [
    "# 5. Variable Assignment and Type (String)\n",
    "\n",
    "text = \"Hi, My name is Vishak Raina\"   # Assign a string value to the variable 'text'\n",
    "print(type(text))                       # Print the data type of 'text' → Output: <class 'str'>\n"
   ]
  },
  {
   "cell_type": "code",
   "execution_count": null,
   "metadata": {},
   "outputs": [
    {
     "data": {
      "text/plain": [
       "str"
      ]
     },
     "execution_count": 68,
     "metadata": {},
     "output_type": "execute_result"
    }
   ],
   "source": [
    "# 6. Variable Assignment and Type (String)\n",
    "\n",
    "my_country = \"India\"       # Assign the string value \"India\" to variable 'my_country'\n",
    "my_country                  # Display the value of 'my_country' in interactive environments → Output: India\n",
    "type(my_country)            # Check the data type of 'my_country' → Output: <class 'str'>\n"
   ]
  },
  {
   "cell_type": "code",
   "execution_count": null,
   "metadata": {},
   "outputs": [
    {
     "name": "stdout",
     "output_type": "stream",
     "text": [
      "How are you\n"
     ]
    },
    {
     "data": {
      "text/plain": [
       "str"
      ]
     },
     "execution_count": 69,
     "metadata": {},
     "output_type": "execute_result"
    }
   ],
   "source": [
    "# 7. Variable Assignment and Type (String with Different Name)\n",
    "\n",
    "text = \"How are you\"     # Assign the string value \"How are you\" to variable 'text'\n",
    "print(text)              # Print the value of 'text' → Output: How are you\n",
    "type(text)               # Check the data type of 'text' → Output: <class 'str'>\n"
   ]
  },
  {
   "cell_type": "code",
   "execution_count": null,
   "metadata": {},
   "outputs": [
    {
     "data": {
      "text/plain": [
       "str"
      ]
     },
     "execution_count": 70,
     "metadata": {},
     "output_type": "execute_result"
    }
   ],
   "source": [
    "# 8. Variable Assignment and Type (String with Different Name)\n",
    "\n",
    "my_name2 = 'Vishak Raina'   # Assign the string value 'Vishak Raina' to variable 'my_name2'\n",
    "my_name2                     # Display the value of 'my_name2' in interactive environments → Output: Vishak Raina\n",
    "type(my_name2)               # Check the data type of 'my_name2' → Output: <class 'str'>\n"
   ]
  },
  {
   "cell_type": "code",
   "execution_count": null,
   "metadata": {},
   "outputs": [
    {
     "name": "stdout",
     "output_type": "stream",
     "text": [
      "<class 'float'>\n"
     ]
    }
   ],
   "source": [
    "# 9. Variable Assignment and Type (Float)\n",
    "\n",
    "value = 10.55           # Assign the float value 10.55 to variable 'value'\n",
    "value                    # Display the value of 'value' in interactive environments → Output: 10.55\n",
    "type(value)              # Check the data type of 'value' → Output: <class 'float'>\n",
    "print(type(value))       # Print the data type of 'value' → Output: <class 'float'>\n"
   ]
  },
  {
   "cell_type": "code",
   "execution_count": null,
   "metadata": {},
   "outputs": [
    {
     "name": "stdout",
     "output_type": "stream",
     "text": [
      "5.5\n"
     ]
    }
   ],
   "source": [
    "# 10. Variable Assignment and Type (Float)\n",
    "\n",
    "a = 5.5               # Assign the float value 5.5 to variable 'a'\n",
    "type(a)               # Check the data type of 'a' → Output: <class 'float'>\n",
    "print(a)              # Print the value of 'a' → Output: 5.5\n"
   ]
  },
  {
   "cell_type": "code",
   "execution_count": null,
   "metadata": {},
   "outputs": [
    {
     "name": "stdout",
     "output_type": "stream",
     "text": [
      "32\n"
     ]
    },
    {
     "data": {
      "text/plain": [
       "int"
      ]
     },
     "execution_count": 73,
     "metadata": {},
     "output_type": "execute_result"
    }
   ],
   "source": [
    "# 11. Reassigning Variable (Integer)\n",
    "\n",
    "my_age = 32           # Assign the integer value 32 to variable 'my_age'\n",
    "print(my_age)         # Print the value of 'my_age' → Output: 32\n",
    "type(my_age)          # Check the data type of 'my_age' → Output: <class 'int'>\n"
   ]
  },
  {
   "cell_type": "code",
   "execution_count": null,
   "metadata": {},
   "outputs": [
    {
     "name": "stdout",
     "output_type": "stream",
     "text": [
      "20\n"
     ]
    },
    {
     "data": {
      "text/plain": [
       "int"
      ]
     },
     "execution_count": 74,
     "metadata": {},
     "output_type": "execute_result"
    }
   ],
   "source": [
    "# 12. Reassigning Variable (Integer)\n",
    "\n",
    "x = 20                # Assign the integer value 20 to variable 'x'\n",
    "print(x)              # Print the value of 'x' → Output: 20\n",
    "type(x)               # Check the data type of 'x' → Output: <class 'int'>\n"
   ]
  },
  {
   "cell_type": "code",
   "execution_count": null,
   "metadata": {},
   "outputs": [
    {
     "data": {
      "text/plain": [
       "str"
      ]
     },
     "execution_count": 75,
     "metadata": {},
     "output_type": "execute_result"
    }
   ],
   "source": [
    "# 13. Reassigning Variable (String)\n",
    "\n",
    "my_name = \"Vishak Raina\"   # Assign the string value \"Vishak Raina\" to variable 'my_name'\n",
    "type(my_name)               # Check the data type of 'my_name' → Output: <class 'str'>\n"
   ]
  },
  {
   "cell_type": "code",
   "execution_count": null,
   "metadata": {},
   "outputs": [
    {
     "name": "stdout",
     "output_type": "stream",
     "text": [
      "What's your name\n",
      "My name is Vishak Raina\n"
     ]
    }
   ],
   "source": [
    "# 14. String Variable with Single and Double Quotes\n",
    "\n",
    "a = \"What's your name\"        # Assign a string with an apostrophe using double quotes to variable 'a'\n",
    "c = 'My name is Vishak Raina' # Assign a regular string using single quotes to variable 'c'\n",
    "type(a)                        # Check the data type of 'a' → Output: <class 'str'>\n",
    "type(c)                        # Check the data type of 'c' → Output: <class 'str'>\n",
    "print(a)                        # Print the value of 'a' → Output: What's your name\n",
    "print(c)                        # Print the value of 'c' → Output: My name is Vishak Raina\n"
   ]
  },
  {
   "cell_type": "code",
   "execution_count": null,
   "metadata": {},
   "outputs": [
    {
     "data": {
      "text/plain": [
       "str"
      ]
     },
     "execution_count": 48,
     "metadata": {},
     "output_type": "execute_result"
    }
   ],
   "source": [
    "# 15. String Variable with Single and Double Quotes\n",
    "\n",
    "a = \"Hello World\"     # Assign a string using double quotes to variable 'a'\n",
    "b = 'Hello World'     # Assign a string using single quotes to variable 'b'\n",
    "a                     # Display the value of 'a' → Output: Hello World\n",
    "b                     # Display the value of 'b' → Output: Hello World\n",
    "type(a)               # Check the data type of 'a' → Output: <class 'str'>\n",
    "type(b)               # Check the data type of 'b' → Output: <class 'str'>\n"
   ]
  },
  {
   "cell_type": "code",
   "execution_count": null,
   "metadata": {},
   "outputs": [
    {
     "name": "stdout",
     "output_type": "stream",
     "text": [
      "10\n"
     ]
    },
    {
     "data": {
      "text/plain": [
       "int"
      ]
     },
     "execution_count": 77,
     "metadata": {},
     "output_type": "execute_result"
    }
   ],
   "source": [
    "# 16. Reassigning Variable (Integer)\n",
    "\n",
    "a = 10               # Assign the integer value 10 to variable 'a'\n",
    "print(a)             # Print the value of 'a' → Output: 10\n",
    "type(a)              # Check the data type of 'a' → Output: <class 'int'>\n"
   ]
  },
  {
   "cell_type": "code",
   "execution_count": null,
   "metadata": {},
   "outputs": [
    {
     "name": "stdout",
     "output_type": "stream",
     "text": [
      "31\n"
     ]
    }
   ],
   "source": [
    "# 17. Reassigning Variable (Integer)\n",
    "\n",
    "my_age = 31             # Assign the integer value 31 to variable 'my_age'\n",
    "print(my_age)           # Print the value of 'my_age' → Output: 31\n"
   ]
  },
  {
   "cell_type": "code",
   "execution_count": null,
   "metadata": {},
   "outputs": [
    {
     "name": "stdout",
     "output_type": "stream",
     "text": [
      "10.22\n",
      "<class 'float'>\n"
     ]
    }
   ],
   "source": [
    "# 18. Variable Assignment and Type (Float)\n",
    "\n",
    "float1 = 10.22            # Assign the float value 10.22 to variable 'float1'\n",
    "print(float1)             # Print the value of 'float1' → Output: 10.22\n",
    "type(float1)              # Check the data type of 'float1' → Output: <class 'float'>\n",
    "print(type(float1))       # Print the data type of 'float1' → Output: <class 'float'>\n"
   ]
  },
  {
   "cell_type": "code",
   "execution_count": null,
   "metadata": {},
   "outputs": [
    {
     "name": "stdout",
     "output_type": "stream",
     "text": [
      "<class 'float'>\n"
     ]
    }
   ],
   "source": [
    "# 19. Variable Assignment and Type (Float)\n",
    "\n",
    "score = 89.4               # Assign the float value 89.4 to variable 'score'\n",
    "score                       # Display the value of 'score' in interactive environments → Output: 89.4\n",
    "type(score)                 # Check the data type of 'score' → Output: <class 'float'>\n",
    "print(type(score))          # Print the data type of 'score' → Output: <class 'float'>\n"
   ]
  },
  {
   "cell_type": "code",
   "execution_count": null,
   "metadata": {},
   "outputs": [
    {
     "data": {
      "text/plain": [
       "str"
      ]
     },
     "execution_count": 90,
     "metadata": {},
     "output_type": "execute_result"
    }
   ],
   "source": [
    "# 20. String Variable with Long Text\n",
    "\n",
    "var = \"Hello, welcome to the class, my friend!!!!\"  # Assign a long string to variable 'var'\n",
    "type(var)                                           # Check the data type of 'var' → Output: <class 'str'>\n"
   ]
  },
  {
   "cell_type": "code",
   "execution_count": null,
   "metadata": {},
   "outputs": [
    {
     "name": "stdout",
     "output_type": "stream",
     "text": [
      "<class 'str'>\n",
      "My name is Vishak, I am 32 years old\n"
     ]
    }
   ],
   "source": [
    "# 21. String Variable with Long Text\n",
    "\n",
    "string1 = \"My name is Vishak, I am 32 years old\"  # Assign a long string to variable 'string1'\n",
    "print(type(string1))                              # Check the data type of 'string1' → Output: <class 'str'>\n",
    "print(string1)                                    # Print the value of 'string1' → Output: My name is Vishak, I am 32 years old\n"
   ]
  },
  {
   "cell_type": "code",
   "execution_count": null,
   "metadata": {},
   "outputs": [
    {
     "data": {
      "text/plain": [
       "int"
      ]
     },
     "execution_count": 95,
     "metadata": {},
     "output_type": "execute_result"
    }
   ],
   "source": [
    "# 22. Reassigning Variable (Integer)\n",
    "\n",
    "var = 10              # Assign the integer value 10 to variable 'var'\n",
    "type(var)             # Check the data type of 'var' → Output: <class 'int'>\n"
   ]
  },
  {
   "cell_type": "code",
   "execution_count": null,
   "metadata": {},
   "outputs": [
    {
     "name": "stdout",
     "output_type": "stream",
     "text": [
      "Hi, How are you doing\n"
     ]
    },
    {
     "data": {
      "text/plain": [
       "str"
      ]
     },
     "execution_count": 97,
     "metadata": {},
     "output_type": "execute_result"
    }
   ],
   "source": [
    "# 23. String Variable and Printing\n",
    "\n",
    "var = \"Hi, How are you doing\"   # Assign the string \"Hi, How are you doing\" to variable 'var'\n",
    "print(var)                      # Print the value of 'var' → Output: Hi, How are you doing\n",
    "type(var)                        # Check the data type of 'var' → Output: <class 'str'>\n"
   ]
  },
  {
   "cell_type": "code",
   "execution_count": null,
   "metadata": {},
   "outputs": [
    {
     "name": "stdout",
     "output_type": "stream",
     "text": [
      "10\n"
     ]
    },
    {
     "data": {
      "text/plain": [
       "float"
      ]
     },
     "execution_count": 102,
     "metadata": {},
     "output_type": "execute_result"
    }
   ],
   "source": [
    "# 24. Type Casting (Float to Integer)\n",
    "\n",
    "f1 = 10.23              # Assign the float value 10.23 to variable 'f1'\n",
    "i1 = int(f1)             # Convert the float 'f1' to an integer → 10 (decimal part truncated)\n",
    "print(i1)               # Print the integer value → Output: 10\n",
    "type(i1)                # Check the data type of 'i1' → Output: <class 'int'>\n",
    "type(f1)                # Check the data type of 'f1' → Output: <class 'float'>\n"
   ]
  },
  {
   "cell_type": "code",
   "execution_count": null,
   "metadata": {},
   "outputs": [
    {
     "data": {
      "text/plain": [
       "11"
      ]
     },
     "execution_count": 111,
     "metadata": {},
     "output_type": "execute_result"
    }
   ],
   "source": [
    "# 25. Rounding a Float\n",
    "\n",
    "a = 89.50                # Assign the float value 89.50 to variable 'a'\n",
    "round(a, 0)              # Round 'a' to 0 decimal places → Output: 90.0 (still a float)\n",
    "\n",
    "round(10.89, None)       # Round 10.89 with ndigits=None → Output: 11\n",
    "                          # When ndigits=None, Python rounds to the nearest integer and returns an int\n"
   ]
  },
  {
   "cell_type": "code",
   "execution_count": null,
   "metadata": {},
   "outputs": [
    {
     "name": "stdout",
     "output_type": "stream",
     "text": [
      "90\n",
      "89\n"
     ]
    }
   ],
   "source": [
    "# 26. Rounding and Type Casting\n",
    "\n",
    "a = 89.5               # Assign the float value 89.5 to variable 'a'\n",
    "b = round(a, 0)        # Round 'a' to 0 decimal places → 90.0 (still a float)\n",
    "b = int(b)             # Convert the rounded float 'b' to an integer → 90\n",
    "c = int(a)             # Directly convert the float 'a' to an integer → 89 (truncates decimal)\n",
    "print(b)               # Print the value of 'b' → Output: 90\n",
    "print(c)               # Print the value of 'c' → Output: 89\n"
   ]
  },
  {
   "cell_type": "code",
   "execution_count": null,
   "metadata": {},
   "outputs": [
    {
     "name": "stdout",
     "output_type": "stream",
     "text": [
      "10\n",
      "<class 'str'>\n"
     ]
    }
   ],
   "source": [
    "# 27. Type Casting (Integer to String)\n",
    "\n",
    "a = 10              # Assign an integer value 10 to variable 'a'\n",
    "a = str(a)          # Convert the integer 'a' to a string using the str() function\n",
    "print(a)            # Print the string value of 'a' → Output: 10\n",
    "print(type(a))      # Print the data type of 'a' → Output: <class 'str'>\n"
   ]
  },
  {
   "cell_type": "code",
   "execution_count": null,
   "metadata": {},
   "outputs": [
    {
     "ename": "ValueError",
     "evalue": "invalid literal for int() with base 10: 'hello'",
     "output_type": "error",
     "traceback": [
      "\u001b[1;31m---------------------------------------------------------------------------\u001b[0m",
      "\u001b[1;31mValueError\u001b[0m                                Traceback (most recent call last)",
      "Cell \u001b[1;32mIn[5], line 4\u001b[0m\n\u001b[0;32m      1\u001b[0m \u001b[38;5;66;03m# 20. Invalid Type Casting (String to Integer)\u001b[39;00m\n\u001b[0;32m      3\u001b[0m a \u001b[38;5;241m=\u001b[39m \u001b[38;5;124m\"\u001b[39m\u001b[38;5;124mhello\u001b[39m\u001b[38;5;124m\"\u001b[39m               \u001b[38;5;66;03m# Assign a string value \"hello\" to variable 'a'\u001b[39;00m\n\u001b[1;32m----> 4\u001b[0m b \u001b[38;5;241m=\u001b[39m \u001b[38;5;28;43mint\u001b[39;49m\u001b[43m(\u001b[49m\u001b[43ma\u001b[49m\u001b[43m)\u001b[49m                \u001b[38;5;66;03m# Try to convert the string 'a' to an integer using int()\u001b[39;00m\n\u001b[0;32m      5\u001b[0m                           \u001b[38;5;66;03m# This will cause an error because \"hello\" is not a numeric string\u001b[39;00m\n\u001b[0;32m      6\u001b[0m                           \u001b[38;5;66;03m# Raises: ValueError: invalid literal for int() with base 10: 'hello'\u001b[39;00m\n",
      "\u001b[1;31mValueError\u001b[0m: invalid literal for int() with base 10: 'hello'"
     ]
    }
   ],
   "source": [
    "# 28. Invalid Type Casting (String to Integer)\n",
    "\n",
    "a = \"hello\"               # Assign a string value \"hello\" to variable 'a'\n",
    "b = int(a)                # Try to convert the string 'a' to an integer using int()\n",
    "                          # This will cause an error because \"hello\" is not a numeric string\n",
    "                          # Raises: ValueError: invalid literal for int() with base 10: 'hello'\n"
   ]
  },
  {
   "cell_type": "code",
   "execution_count": null,
   "metadata": {},
   "outputs": [],
   "source": [
    "# 29. Type Casting (Numeric String to Integer)\n",
    "\n",
    "a = \"5\"              # Assign a numeric string value \"5\" to variable 'a'\n",
    "b = int(a)           # Convert the string 'a' to an integer using the int() function\n",
    "print(b)             # Print the integer value of 'b' → Output: 5\n"
   ]
  },
  {
   "cell_type": "code",
   "execution_count": null,
   "metadata": {},
   "outputs": [],
   "source": [
    "# 30. Type Casting (Numeric String to Integer via Float)\n",
    "\n",
    "a = \"5.5\"                # Assign a numeric string value \"5.5\" to variable 'a'\n",
    "b = int(float(a))        # First, convert the string 'a' to a float using float(a)\n",
    "                         # Then convert that float to an integer using int()\n",
    "                         # Note: int() truncates the decimal part, it does NOT round\n",
    "print(b)                  # Print the integer value of 'b' → Output: 5\n"
   ]
  },
  {
   "cell_type": "code",
   "execution_count": null,
   "metadata": {},
   "outputs": [
    {
     "name": "stdout",
     "output_type": "stream",
     "text": [
      "5\n"
     ]
    }
   ],
   "source": [
    "# 31. Type Casting (Numeric String to Float)\n",
    "\n",
    "a = \"5.5\"              # Assign a numeric string value \"5.5\" to variable 'a'\n",
    "b = float(a)           # Convert the string 'a' to a float using the float() function\n",
    "print(b)               # Print the float value of 'b' → Output: 5.5\n"
   ]
  },
  {
   "cell_type": "code",
   "execution_count": null,
   "metadata": {},
   "outputs": [
    {
     "name": "stdout",
     "output_type": "stream",
     "text": [
      "5.5\n"
     ]
    }
   ],
   "source": [
    "# 32. Type Casting (Integer to Float)\n",
    "\n",
    "a = 5                  # Assign an integer value 5 to variable 'a'\n",
    "a = float(a)           # Convert the integer 'a' to a float using the float() function\n",
    "print(type(a))         # Print the data type of 'a' → Output: <class 'float'>\n",
    "print(a)               # Print the float value of 'a' → Output: 5.0\n"
   ]
  },
  {
   "cell_type": "code",
   "execution_count": null,
   "metadata": {},
   "outputs": [
    {
     "name": "stdout",
     "output_type": "stream",
     "text": [
      "5.0\n",
      "<class 'float'>\n"
     ]
    }
   ],
   "source": [
    "# 33. Type Casting (Numeric String to Integer)\n",
    "\n",
    "a = '5'                # Assign a numeric string value '5' to variable 'a'\n",
    "a = int(a)             # Convert the string 'a' to an integer using the int() function\n",
    "print(type(a))         # Print the data type of 'a' → Output: <class 'int'>\n",
    "print(a)               # Print the integer value of 'a' → Output: 5\n"
   ]
  },
  {
   "cell_type": "code",
   "execution_count": null,
   "metadata": {},
   "outputs": [
    {
     "name": "stdout",
     "output_type": "stream",
     "text": [
      "<class 'float'>\n"
     ]
    }
   ],
   "source": [
    "# 34. Float Variable Type Check\n",
    "\n",
    "a = 10.5              # Assign a float value 10.5 to variable 'a'\n",
    "print(type(a))        # Print the data type of 'a' → Output: <class 'float'>\n"
   ]
  },
  {
   "cell_type": "code",
   "execution_count": null,
   "metadata": {},
   "outputs": [
    {
     "name": "stdout",
     "output_type": "stream",
     "text": [
      "<class 'float'>\n"
     ]
    }
   ],
   "source": [
    "# 35. String Variable Type Check\n",
    "\n",
    "a = '10.5'            # Assign a string value '10.5' to variable 'a'\n",
    "print(type(a))        # Print the data type of 'a' → Output: <class 'str'>\n"
   ]
  },
  {
   "cell_type": "code",
   "execution_count": null,
   "metadata": {},
   "outputs": [
    {
     "name": "stdout",
     "output_type": "stream",
     "text": [
      "<class 'str'>\n"
     ]
    }
   ],
   "source": [
    "# 36. String Variable with Quotes\n",
    "\n",
    "a = \"10.5\"            # Assign a string value \"10.5\" (using double quotes) to variable 'a'\n",
    "type(a)                # Check the data type of 'a' → Output: <class 'str'>\n"
   ]
  },
  {
   "cell_type": "code",
   "execution_count": null,
   "metadata": {},
   "outputs": [
    {
     "data": {
      "text/plain": [
       "str"
      ]
     },
     "execution_count": 27,
     "metadata": {},
     "output_type": "execute_result"
    }
   ],
   "source": [
    "# 37. String Variable Printing and Type Check\n",
    "\n",
    "a = '10.5'            # Assign a string value '10.5' to variable 'a'\n",
    "print(a)              # Print the value of 'a' → Output: 10.5\n",
    "print(type(a))        # Print the data type of 'a' → Output: <class 'str'>\n"
   ]
  },
  {
   "cell_type": "code",
   "execution_count": null,
   "metadata": {},
   "outputs": [
    {
     "name": "stdout",
     "output_type": "stream",
     "text": [
      "<class 'str'>\n"
     ]
    }
   ],
   "source": [
    "# 38. Boolean String vs Boolean Type\n",
    "\n",
    "a = 'True'             # Assign the string value 'True' (in quotes) to variable 'a'\n",
    "print(type(a))         # Print the data type of 'a' → Output: <class 'str'>\n",
    "print(a)               # Print the value of 'a' → Output: True (as text, not boolean)\n",
    "\n",
    "a = True               # Assign the boolean value True (without quotes) to variable 'a'\n",
    "print(type(a))         # Print the data type of 'a' → Output: <class 'bool'>\n",
    "print(a)               # Print the value of 'a' → Output: True (as a boolean)\n"
   ]
  },
  {
   "cell_type": "code",
   "execution_count": null,
   "metadata": {},
   "outputs": [
    {
     "name": "stdout",
     "output_type": "stream",
     "text": [
      "True\n",
      "<class 'str'>\n",
      "True\n",
      "<class 'bool'>\n"
     ]
    }
   ],
   "source": [
    "# 39. Boolean Examples\n",
    "\n",
    "bool_var = \"True\"             # Assign the string \"True\" to variable 'bool_var'\n",
    "print(bool_var)               # Print the value → Output: True (as text)\n",
    "print(type(bool_var))         # Print the data type → Output: <class 'str'>\n",
    "\n",
    "bool_var = True               # Assign the boolean value True to 'bool_var'\n",
    "print(bool_var)               # Print the value → Output: True (as a boolean)\n",
    "print(type(bool_var))         # Print the data type → Output: <class 'bool'>\n"
   ]
  },
  {
   "cell_type": "code",
   "execution_count": null,
   "metadata": {},
   "outputs": [
    {
     "name": "stdout",
     "output_type": "stream",
     "text": [
      "True\n",
      "<class 'str'>\n",
      "True\n",
      "<class 'bool'>\n"
     ]
    }
   ],
   "source": [
    "# 40. Invalid Variable Name (Starting with Number)\n",
    "\n",
    "5a = 10           # ❌ Invalid variable name: variable names cannot start with a number\n",
    "                  # Raises: SyntaxError: invalid syntax\n"
   ]
  },
  {
   "cell_type": "code",
   "execution_count": null,
   "metadata": {},
   "outputs": [],
   "source": [
    "# 41. Valid Variable Name\n",
    "\n",
    "a = 10             # Assign the integer value 10 to a valid variable name 'a'\n"
   ]
  },
  {
   "cell_type": "code",
   "execution_count": null,
   "metadata": {},
   "outputs": [],
   "source": [
    "# 42. Valid Variable Name with Number\n",
    "\n",
    "a5 = 10            # Assign the integer value 10 to variable 'a5' (numbers allowed after letters)\n",
    "a5                 # Access the value of 'a5' → Output: 10\n"
   ]
  },
  {
   "cell_type": "code",
   "execution_count": null,
   "metadata": {},
   "outputs": [
    {
     "data": {
      "text/plain": [
       "10"
      ]
     },
     "execution_count": 37,
     "metadata": {},
     "output_type": "execute_result"
    }
   ],
   "source": [
    "# 43. Invalid Variable Name (Starting with Number)\n",
    "\n",
    "10a = 10          # ❌ Invalid variable name: variable names cannot start with a number\n",
    "                  # Raises: SyntaxError: invalid syntax\n"
   ]
  },
  {
   "cell_type": "code",
   "execution_count": null,
   "metadata": {},
   "outputs": [
    {
     "data": {
      "text/plain": [
       "15"
      ]
     },
     "execution_count": 39,
     "metadata": {},
     "output_type": "execute_result"
    }
   ],
   "source": [
    "# 44. Case Sensitivity in Variables\n",
    "\n",
    "a = 10            # Assign integer 10 to variable 'a' (lowercase)\n",
    "A = 15            # Assign integer 15 to variable 'A' (uppercase)\n",
    "a                 # Access the value of 'a' → Output: 10\n",
    "A                 # Access the value of 'A' → Output: 15\n",
    "\n",
    "# Note: Python variables are case-sensitive, so 'a' and 'A' are treated as different variables\n"
   ]
  },
  {
   "cell_type": "code",
   "execution_count": null,
   "metadata": {},
   "outputs": [
    {
     "data": {
      "text/plain": [
       "20"
      ]
     },
     "execution_count": 42,
     "metadata": {},
     "output_type": "execute_result"
    }
   ],
   "source": [
    "# 45. Case Sensitivity in Variables (Different Example)\n",
    "\n",
    "name = 2               # Assign integer 2 to variable 'name' (lowercase)\n",
    "Name = 4               # Assign integer 4 to variable 'Name' (uppercase N)\n",
    "print(name)            # Print the value of 'name' → Output: 2\n",
    "print(Name)            # Print the value of 'Name' → Output: 4\n",
    "print(NAME)            # ❌ NAME is not defined (all uppercase), raises NameError\n",
    "\n",
    "# Note: Python variables are case-sensitive: 'name', 'Name', and 'NAME' are all different\n"
   ]
  },
  {
   "cell_type": "code",
   "execution_count": null,
   "metadata": {},
   "outputs": [
    {
     "data": {
      "text/plain": [
       "int"
      ]
     },
     "execution_count": 44,
     "metadata": {},
     "output_type": "execute_result"
    }
   ],
   "source": [
    "# 46. Variable Assignment (Integer)\n",
    "\n",
    "var = 10             # Assign the integer value 10 to variable 'var'\n",
    "type(var)            # Check the data type of 'var' → Output: <class 'int'>\n"
   ]
  },
  {
   "cell_type": "code",
   "execution_count": null,
   "metadata": {},
   "outputs": [
    {
     "name": "stdout",
     "output_type": "stream",
     "text": [
      "<class 'int'>\n"
     ]
    }
   ],
   "source": [
    "# 47. Variable Assignment (Float)\n",
    "\n",
    "float_var = 10.1        # Assign the float value 10.1 to variable 'float_var'\n",
    "type(float_var)         # Check the data type of 'float_var' → Output: <class 'float'>\n"
   ]
  },
  {
   "cell_type": "code",
   "execution_count": null,
   "metadata": {},
   "outputs": [],
   "source": [
    "# 48. String Variable and Printing\n",
    "\n",
    "string1 = 'hello'        # Assign the string value 'hello' to variable 'string1'\n",
    "print(string1)           # Print the value of 'string1' → Output: hello (without quotes)\n",
    "string1                  # Display the value of 'string1' in an interactive environment → Output: 'hello' (with quotes)\n"
   ]
  },
  {
   "cell_type": "code",
   "execution_count": null,
   "metadata": {},
   "outputs": [
    {
     "name": "stdout",
     "output_type": "stream",
     "text": [
      "hello 123 world\n"
     ]
    }
   ],
   "source": [
    "# 49. String Variable with Numbers and Text\n",
    "\n",
    "string2 = \"hello 123 world\"    # Assign a string containing both text and numbers to variable 'string2'\n",
    "print(string2)                 # Print the value of 'string2' → Output: hello 123 world\n"
   ]
  },
  {
   "cell_type": "code",
   "execution_count": null,
   "metadata": {},
   "outputs": [
    {
     "ename": "SyntaxError",
     "evalue": "invalid decimal literal (3542994221.py, line 3)",
     "output_type": "error",
     "traceback": [
      "\u001b[1;36m  Cell \u001b[1;32mIn[49], line 3\u001b[1;36m\u001b[0m\n\u001b[1;33m    1new_var = 10           # ❌ Invalid variable name: variable names cannot start with a number\u001b[0m\n\u001b[1;37m    ^\u001b[0m\n\u001b[1;31mSyntaxError\u001b[0m\u001b[1;31m:\u001b[0m invalid decimal literal\n"
     ]
    }
   ],
   "source": [
    "# 50. Invalid Variable Name (Starting with Number)\n",
    "\n",
    "1new_var = 10           # ❌ Invalid variable name: variable names cannot start with a number\n",
    "                        # Raises: SyntaxError: invalid syntax\n"
   ]
  },
  {
   "cell_type": "code",
   "execution_count": null,
   "metadata": {},
   "outputs": [],
   "source": [
    "# 51. Valid Variable Name\n",
    "\n",
    "new_var = 10             # Assign the integer value 10 to a valid variable name 'new_var'\n",
    "print(new_var)           # Print the value of 'new_var' → Output: 10\n"
   ]
  },
  {
   "cell_type": "code",
   "execution_count": null,
   "metadata": {},
   "outputs": [],
   "source": [
    "# 52. Addition with Variables\n",
    "\n",
    "a = 4                # Assign integer value 4 to variable 'a'\n",
    "b = 5                # Assign integer value 5 to variable 'b'\n",
    "c = a + b            # Add the values of 'a' and 'b', and store the result in 'c'\n",
    "print(c)             # Print the value of 'c' → Output: 9\n"
   ]
  },
  {
   "cell_type": "code",
   "execution_count": null,
   "metadata": {},
   "outputs": [
    {
     "name": "stdout",
     "output_type": "stream",
     "text": [
      "11\n"
     ]
    }
   ],
   "source": [
    "# 53. Addition with Different Values\n",
    "\n",
    "a = 51               # Assign integer value 51 to variable 'a'\n",
    "b = 10               # Assign integer value 10 to variable 'b'\n",
    "c = a + b            # Add the values of 'a' and 'b', and store the result in 'c'\n",
    "print(c)             # Print the value of 'c' → Output: 61\n"
   ]
  },
  {
   "cell_type": "code",
   "execution_count": null,
   "metadata": {},
   "outputs": [
    {
     "name": "stdout",
     "output_type": "stream",
     "text": [
      "61\n"
     ]
    }
   ],
   "source": [
    "# 54. Function Definition and Call\n",
    "\n",
    "def sum_two_numbers(a, b):   # Define a function named 'sum_two_numbers' that takes two parameters: 'a' and 'b'\n",
    "    c = a + b                # Add the two parameters and store the result in variable 'c'\n",
    "    return c                 # Return the value of 'c' to the caller\n",
    "\n",
    "sum_two_numbers(115, 30)     # Call the function with arguments 115 and 30 → Output: 145\n"
   ]
  },
  {
   "cell_type": "code",
   "execution_count": null,
   "metadata": {},
   "outputs": [
    {
     "data": {
      "text/plain": [
       "12"
      ]
     },
     "execution_count": 53,
     "metadata": {},
     "output_type": "execute_result"
    }
   ],
   "source": [
    "# 55. Function Call (Different Function Name)\n",
    "\n",
    "def sum_fun(a, b):      # Define a function named 'sum_fun' that takes two parameters: 'a' and 'b'\n",
    "    c = a + b           # Add the two parameters and store the result in variable 'c'\n",
    "    return c            # Return the sum stored in 'c'\n",
    "\n",
    "sum_fun(5, 6)           # Call the function with arguments 5 and 6 → Output: 11\n"
   ]
  },
  {
   "cell_type": "code",
   "execution_count": null,
   "metadata": {},
   "outputs": [
    {
     "data": {
      "text/plain": [
       "69"
      ]
     },
     "execution_count": 54,
     "metadata": {},
     "output_type": "execute_result"
    }
   ],
   "source": [
    "# 56. Function Call (Another Example)\n",
    "\n",
    "def func_sum(a, b):      # Define a function named 'func_sum' that takes two parameters: 'a' and 'b'\n",
    "    c = a + b            # Add the two parameters and store the result in variable 'c'\n",
    "    return c             # Return the sum stored in 'c'\n",
    "\n",
    "func_sum(4, 5)           # Call the function with arguments 4 and 5 → Output: 9\n",
    "func_sum(14, 55)         # Call the function with arguments 14 and 55 → Output: 69\n"
   ]
  },
  {
   "cell_type": "code",
   "execution_count": null,
   "metadata": {},
   "outputs": [
    {
     "ename": "SyntaxError",
     "evalue": "invalid decimal literal (2867542467.py, line 3)",
     "output_type": "error",
     "traceback": [
      "\u001b[1;36m  Cell \u001b[1;32mIn[55], line 3\u001b[1;36m\u001b[0m\n\u001b[1;33m    1name = 5            # ❌ Invalid variable name: variable names cannot start with a number\u001b[0m\n\u001b[1;37m    ^\u001b[0m\n\u001b[1;31mSyntaxError\u001b[0m\u001b[1;31m:\u001b[0m invalid decimal literal\n"
     ]
    }
   ],
   "source": [
    "# 57. Invalid Variable Name (Starting with Number)\n",
    "\n",
    "1name = 5            # ❌ Invalid variable name: variable names cannot start with a number\n",
    "                     # Raises: SyntaxError: invalid syntax\n"
   ]
  },
  {
   "cell_type": "code",
   "execution_count": null,
   "metadata": {},
   "outputs": [],
   "source": [
    "# 58. Variable Assignment and Type Check\n",
    "\n",
    "a = 10               # Assign the integer value 10 to variable 'a'\n",
    "type(a)              # Check the data type of 'a' → Output: <class 'int'>\n"
   ]
  },
  {
   "cell_type": "code",
   "execution_count": null,
   "metadata": {},
   "outputs": [
    {
     "data": {
      "text/plain": [
       "int"
      ]
     },
     "execution_count": 56,
     "metadata": {},
     "output_type": "execute_result"
    }
   ],
   "source": [
    "# 59. Variable Assignment (Float)\n",
    "\n",
    "a = 10.1             # Assign the float value 10.1 to variable 'a'\n",
    "type(a)              # Check the data type of 'a' → Output: <class 'float'>\n"
   ]
  },
  {
   "cell_type": "code",
   "execution_count": null,
   "metadata": {},
   "outputs": [],
   "source": [
    "# 60. String Variable and Printing\n",
    "\n",
    "welcome_string = \"Welcome to the Python course\"   # Assign a string to the variable 'welcome_string'\n",
    "print(welcome_string)                             # Print the value of 'welcome_string' → Output: Welcome to the Python course\n",
    "type(welcome_string)                              # Check the data type of 'welcome_string' → Output: <class 'str'>\n"
   ]
  },
  {
   "cell_type": "code",
   "execution_count": null,
   "metadata": {},
   "outputs": [],
   "source": [
    "# 61. Addition with Variables\n",
    "\n",
    "a = 10              # Assign integer value 10 to variable 'a'\n",
    "b = 5               # Assign integer value 5 to variable 'b'\n",
    "c = a + b           # Add 'a' and 'b' and store the result in 'c'\n",
    "print(c)            # Print the value of 'c' → Output: 15\n"
   ]
  },
  {
   "cell_type": "code",
   "execution_count": null,
   "metadata": {},
   "outputs": [],
   "source": [
    "# 62. Function Definition\n",
    "\n",
    "def sum_function(a, b):   # Define a function named 'sum_function' with two parameters: 'a' and 'b'\n",
    "    c = a + b             # Add the two parameters and store the result in variable 'c'\n",
    "    return c              # Return the sum stored in 'c'\n",
    "\n",
    "sum_function(5, 6)        # Call the function with arguments 5 and 6 → Output: 11\n"
   ]
  },
  {
   "cell_type": "code",
   "execution_count": null,
   "metadata": {},
   "outputs": [
    {
     "data": {
      "text/plain": [
       "str"
      ]
     },
     "execution_count": 57,
     "metadata": {},
     "output_type": "execute_result"
    }
   ],
   "source": [
    "# 63. Boolean String Variable\n",
    "\n",
    "boolean_var = 'True'       # Assign the string value 'True' to variable 'boolean_var'\n",
    "type(boolean_var)          # Check the data type of 'boolean_var' → Output: <class 'str'>\n"
   ]
  },
  {
   "cell_type": "code",
   "execution_count": null,
   "metadata": {},
   "outputs": [
    {
     "data": {
      "text/plain": [
       "bool"
      ]
     },
     "execution_count": 59,
     "metadata": {},
     "output_type": "execute_result"
    }
   ],
   "source": [
    "# 64. Boolean Variable\n",
    "\n",
    "boolean_var = True        # Assign the boolean value True to variable 'boolean_var'\n",
    "type(boolean_var)         # Check the data type of 'boolean_var' → Output: <class 'bool'>\n"
   ]
  },
  {
   "cell_type": "code",
   "execution_count": null,
   "metadata": {},
   "outputs": [],
   "source": [
    "# 65. Multiple Variable Assignments\n",
    "\n",
    "name = \"Vishak Raina\"   # Assign string value \"Vishak Raina\" to variable 'name'\n",
    "age = 31                     # Assign integer value 31 to variable 'age'\n",
    "gender = 'male'              # Assign string value 'male' to variable 'gender'\n",
    "address = 'hong kong'        # Assign string value 'hong kong' to variable 'address'\n",
    "type(age)                    # Check the data type of 'age' → Output: <class 'int'>\n"
   ]
  },
  {
   "cell_type": "code",
   "execution_count": null,
   "metadata": {},
   "outputs": [
    {
     "data": {
      "text/plain": [
       "5"
      ]
     },
     "execution_count": 60,
     "metadata": {},
     "output_type": "execute_result"
    }
   ],
   "source": [
    "# 66. Type Casting (String to Float to Integer)\n",
    "\n",
    "a = '5.5'              # Assign a numeric string value '5.5' to variable 'a'\n",
    "a = float(a)            # Convert the string 'a' to a float → 5.5\n",
    "a                       # Display the float value → Output: 5.5\n",
    "a = int(a)              # Convert the float 'a' to an integer (truncates decimal) → 5\n",
    "type(a)                 # Check the data type of 'a' → Output: <class 'int'>\n",
    "a                       # Display the integer value → Output: 5\n"
   ]
  }
 ],
 "metadata": {
  "kernelspec": {
   "display_name": "Python 3",
   "language": "python",
   "name": "python3"
  },
  "language_info": {
   "codemirror_mode": {
    "name": "ipython",
    "version": 3
   },
   "file_extension": ".py",
   "mimetype": "text/x-python",
   "name": "python",
   "nbconvert_exporter": "python",
   "pygments_lexer": "ipython3",
   "version": "3.12.0"
  },
  "orig_nbformat": 4
 },
 "nbformat": 4,
 "nbformat_minor": 2
}
