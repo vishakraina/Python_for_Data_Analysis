{
 "cells": [
  {
   "cell_type": "code",
   "execution_count": null,
   "id": "6aded2ad",
   "metadata": {},
   "outputs": [],
   "source": [
    "# 1. Reading a File (Line by Line)\n",
    "file = open('test.txt', 'r')  # Open file 'test.txt' in read ('r') mode\n",
    "for line in file:              # Iterate through each line in the file\n",
    "    print(line)                # Print each line to the console\n",
    "# Output:\n",
    "# Hello World\n",
    "# My name is Vishak Raina\n",
    "# Welcome to my Python Course"
   ]
  },
  {
   "cell_type": "code",
   "execution_count": null,
   "id": "b27f0ff3",
   "metadata": {},
   "outputs": [],
   "source": [
    "# 2. Reading Entire File\n",
    "file = open('test.txt', 'r')   # Open file in read mode\n",
    "print(file.read())             # Read the entire content of the file at once\n",
    "# Output:\n",
    "# Hello World\n",
    "# My name is Vishak Raina\n",
    "# Welcome to my Python Course"
   ]
  },
  {
   "cell_type": "code",
   "execution_count": null,
   "id": "ce2a64db",
   "metadata": {},
   "outputs": [],
   "source": [
    "# 3. Reading Specific Characters\n",
    "file = open('test.txt', 'r')   # Open file in read mode\n",
    "print(file.read(50))           # Read first 50 characters from the file\n",
    "# Output: Hello World\\nMy name is Satyajit Patnaik\\nWelcome to my"
   ]
  },
  {
   "cell_type": "code",
   "execution_count": null,
   "id": "c17f4c23",
   "metadata": {},
   "outputs": [],
   "source": [
    "# 4. Reading First Line\n",
    "file = open('test.txt', 'r')   # Open file in read mode\n",
    "print(file.readline())         # Read only the first line of the file\n",
    "# Output: Hello World\n"
   ]
  },
  {
   "cell_type": "code",
   "execution_count": null,
   "id": "f94ff99a",
   "metadata": {},
   "outputs": [],
   "source": [
    "# 5. Reading First Line with Character Limit\n",
    "file = open('test.txt', 'r')   # Open file in read mode\n",
    "print(file.readline(50))       # Read first line up to 50 characters\n",
    "# Output: Hello World"
   ]
  },
  {
   "cell_type": "code",
   "execution_count": null,
   "id": "7e461f38",
   "metadata": {},
   "outputs": [],
   "source": [
    "# 6. Writing to a File (Overwrites)\n",
    "file = open('test.txt', 'w')   # Open file in write ('w') mode — overwrites existing content\n",
    "file.write(\"This is a write operation\")  # Write first line (no newline)\n",
    "file.write(\"Hello!! Thanks for joining this program\")  # Write next line (continues on same line)\n",
    "file.close()                   # Close the file to save changes\n",
    "\n",
    "file = open('test.txt', 'r')   # Reopen file in read mode\n",
    "print(file.read())             # Read and display file content\n",
    "# Output: This is a write operationHello!! Thanks for joining this program\n"
   ]
  },
  {
   "cell_type": "code",
   "execution_count": null,
   "id": "edfc279e",
   "metadata": {},
   "outputs": [],
   "source": [
    "# 7. Writing with Line Breaks\n",
    "file = open('test.txt', 'w')   # Open file in write mode\n",
    "file.write(\"This is a write operation\")  # Write first line\n",
    "file.write(\"\\n\")               # Insert a newline character\n",
    "file.write(\"Hello!! Thanks for joining this program\")  # Write second line\n",
    "file.close()                   # Close the file\n",
    "\n",
    "file = open('test.txt', 'r')   # Reopen file in read mode\n",
    "for line in file:              # Iterate through each line\n",
    "    print(line)                # Print lines\n",
    "# Output:\n",
    "# This is a write operation\n",
    "# Hello!! Thanks for joining this program"
   ]
  },
  {
   "cell_type": "code",
   "execution_count": null,
   "id": "9bb9f56a",
   "metadata": {},
   "outputs": [],
   "source": [
    "# 8. Appending to a File\n",
    "with open('test.txt', 'a') as file:  # Open file in append ('a') mode using 'with' (auto-closes)\n",
    "    file.write(\"This is a write operation\")  # Append new content to end of file\n",
    "\n",
    "file = open('test.txt', 'r')   # Open file in read mode\n",
    "for line in file:              # Iterate through lines\n",
    "    print(line)                # Print each line\n",
    "# Output (appends to existing content):\n",
    "# Hello World\n",
    "# My name is Vishak Raina\n",
    "# Welcome to my Python Course\n",
    "# This is a write operation"
   ]
  },
  {
   "cell_type": "code",
   "execution_count": null,
   "id": "f247095a",
   "metadata": {},
   "outputs": [],
   "source": [
    "# 9. Appending with Line Breaks (Using a+)\n",
    "with open('test.txt', 'a+') as file:  # Open file in append & read ('a+') mode\n",
    "    file.write(\"\\n\")                  # Add a newline before new content\n",
    "    file.write(\"This is a write operation\")  # Append new line to file\n",
    "\n",
    "file = open('test.txt', 'r')   # Open file in read mode\n",
    "for line in file:              # Iterate and print lines\n",
    "    print(line)\n",
    "# Output (appends with newline):\n",
    "# Hello World\n",
    "# My name is Vishak Raina\n",
    "# Welcome to my Python Course\n",
    "# This is a write operation"
   ]
  },
  {
   "cell_type": "code",
   "execution_count": null,
   "id": "4719f91a",
   "metadata": {},
   "outputs": [],
   "source": [
    "# 10. Reading CSV with Pandas\n",
    "import pandas as pd            # Import pandas library\n",
    "\n",
    "df = pd.read_csv('Churn_Modelling.csv')  # Read CSV file into DataFrame\n",
    "print(df.head(5))              # Display first 5 rows of the DataFrame\n",
    "print(df.tail(10))             # Display last 10 rows of the DataFrame\n",
    "# Output:\n",
    "# First 5 and last 10 rows of the 'Churn_Modelling.csv' dataset"
   ]
  }
 ],
 "metadata": {
  "kernelspec": {
   "display_name": "Python 3",
   "language": "python",
   "name": "python3"
  },
  "language_info": {
   "codemirror_mode": {
    "name": "ipython",
    "version": 3
   },
   "file_extension": ".py",
   "mimetype": "text/x-python",
   "name": "python",
   "nbconvert_exporter": "python",
   "pygments_lexer": "ipython3",
   "version": "3.12.0"
  }
 },
 "nbformat": 4,
 "nbformat_minor": 5
}
