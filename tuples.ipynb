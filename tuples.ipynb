{
 "cells": [
  {
   "cell_type": "code",
   "execution_count": null,
   "id": "41ee38db",
   "metadata": {},
   "outputs": [],
   "source": [
    "# 1. List vs Tuple Definition\n",
    "list_a = [1, 2, 3, 4]\n",
    "print(type(list_a))  # Output: <class 'list'>\n",
    "t = (1, 2, 3, 4)\n",
    "print(type(t))  # Output: <class 'tuple'>\n",
    "t2 = 1, 2, 3, 4\n",
    "print(type(t2))  # Output: <class 'tuple'>"
   ]
  },
  {
   "cell_type": "code",
   "execution_count": null,
   "id": "5df5a816",
   "metadata": {},
   "outputs": [],
   "source": [
    "# 2. Single-Element Tuple\n",
    "new_t = (5,)                              # Single-element tuple must have a trailing comma\n",
    "print(type(new_t))                        # Output: <class 'tuple'>\n",
    "\n",
    "t3 = 1,                                   # Tuple created without parentheses (still valid)\n",
    "print(type(t3))                           # Output: <class 'tuple'>\n",
    "\n",
    "t4 = 1                                    # Without a comma, this is an integer\n",
    "print(type(t4))                           # Output: <class 'int'>\n",
    "\n",
    "t5 = (1)                                  # Parentheses without comma = integer\n",
    "print(type(t5))                           # Output: <class 'int'>\n"
   ]
  },
  {
   "cell_type": "code",
   "execution_count": 5,
   "id": "29d34902",
   "metadata": {},
   "outputs": [
    {
     "name": "stdout",
     "output_type": "stream",
     "text": [
      "('hello', 5, 5.5)\n",
      "3\n"
     ]
    }
   ],
   "source": [
    "# 3. Mixed Tuple and Length\n",
    "t = ('hello', 5, 5.5)                     # Tuple with string, int, and float\n",
    "print(t)                                  # Output: ('hello', 5, 5.5)\n",
    "print(len(t))                             # Output: 3\n"
   ]
  },
  {
   "cell_type": "code",
   "execution_count": 7,
   "id": "375fbb56",
   "metadata": {},
   "outputs": [
    {
     "name": "stdout",
     "output_type": "stream",
     "text": [
      "he\n"
     ]
    }
   ],
   "source": [
    "# 4. String Slicing within Tuple\n",
    "t = ('hello', 5, 5.5)                     # Define tuple again\n",
    "print(t[0][0:2])                          # Slice first element ('hello') → Output: 'he'\n"
   ]
  },
  {
   "cell_type": "code",
   "execution_count": 10,
   "id": "0599366b",
   "metadata": {},
   "outputs": [
    {
     "name": "stdout",
     "output_type": "stream",
     "text": [
      "4\n",
      "<class 'tuple'>\n",
      "5\n",
      "5\n",
      "(3, (4, 5))\n",
      "(2, 3)\n"
     ]
    }
   ],
   "source": [
    "# 5. Nested Tuple\n",
    "nested_tup = (1, 2, 3, (4, 5))            # Tuple inside another tuple\n",
    "print(len(nested_tup))                    # Output: 4\n",
    "print(type(nested_tup[3]))                # Output: <class 'tuple'>\n",
    "print(nested_tup[-1][1])                  # Access last tuple’s second element → Output: 5\n",
    "print(nested_tup[3][1])                   # Access same element → Output: 5\n",
    "print(nested_tup[-2:])                    # Slice last 2 elements → Output: (3, (4, 5))\n",
    "print(nested_tup[1:3])                    # Slice from index 1 to 2 → Output: (2, 3)"
   ]
  },
  {
   "cell_type": "code",
   "execution_count": 17,
   "id": "773f20c7",
   "metadata": {},
   "outputs": [
    {
     "name": "stdout",
     "output_type": "stream",
     "text": [
      "4\n",
      "<class 'list'>\n",
      "[2, 3, 4]\n",
      "3\n",
      "3\n"
     ]
    }
   ],
   "source": [
    "# 6. Tuple with Nested List\n",
    "t1 = ('hello', 5, 5.5, [2, 3, 4])         # Tuple with a list inside\n",
    "print(len(t1))                            # Output: 4\n",
    "print(type(t1[3]))                        # Fourth element is a list → Output: <class 'list'>\n",
    "var = t1[3]                               # Assign the list to 'var'\n",
    "print(var)                                # Output: [2, 3, 4]\n",
    "print(var[1])                             # Access second list element → Output: 3\n",
    "print(t1[3][1])                           # Same as above → Output: 3\n"
   ]
  },
  {
   "cell_type": "code",
   "execution_count": null,
   "id": "b491df6c",
   "metadata": {},
   "outputs": [
    {
     "name": "stdout",
     "output_type": "stream",
     "text": [
      "3\n"
     ]
    }
   ],
   "source": [
    "# 7. Tuple without Parentheses\n",
    "t1 = 1, 2, 3, 4, 5                        # Tuple defined without parentheses\n",
    "print(t1)                                 # Output: (1, 2, 3, 4, 5)\n",
    "print(type(t1))                           # Output: <class 'tuple'>\n",
    "\n",
    "t1 = 1.2,                                 # Single-element tuple → requires comma\n",
    "print(type(t1))                           # Output: <class 'tuple'>\n",
    "\n",
    "t2 = 1.2                                  # Without comma → float value\n",
    "print(type(t2))                           # Output: <class 'float'>\n",
    "print(len(t1))                            # Output: 1\n"
   ]
  },
  {
   "cell_type": "code",
   "execution_count": null,
   "id": "824a9e39",
   "metadata": {},
   "outputs": [
    {
     "data": {
      "text/plain": [
       "tuple"
      ]
     },
     "execution_count": 27,
     "metadata": {},
     "output_type": "execute_result"
    }
   ],
   "source": [
    "# 8. Indexing in Tuple\n",
    "t = (\"Mumbai\", 10, \"Python\", 100)         # Tuple with mixed data\n",
    "print(t[0][0:3] + t[2][0:2])              # Slice and concatenate → Output: 'MumPy'\n",
    "print(len(t))                             # Output: 4\n",
    "print(t[2:])                              # Slice from index 2 → Output: ('Python', 100)\n",
    "print(t[0])                               # Access first element → Output: 'Mumbai'\n",
    "print(t[1])                               # Access second element → Output: 10\n"
   ]
  },
  {
   "cell_type": "code",
   "execution_count": null,
   "id": "7073c49d",
   "metadata": {},
   "outputs": [
    {
     "name": "stdout",
     "output_type": "stream",
     "text": [
      "MumPy\n"
     ]
    }
   ],
   "source": [
    "# 9. Slicing\n",
    "t = (\"Mumbai\", 10, \"Python\", 100, \"Delhi\")  # Tuple with multiple items\n",
    "print(t[0:2])                              # Slice 0 to 1 → Output: ('Mumbai', 10)\n",
    "print(t[2:4])                              # Slice 2 to 3 → Output: ('Python', 100)\n",
    "print(t[-2:])                              # Slice last 2 elements → Output: (100, 'Delhi')\n",
    "print(t[2:])                               # Slice from index 2 → Output: ('Python', 100, 'Delhi')\n"
   ]
  },
  {
   "cell_type": "code",
   "execution_count": null,
   "id": "c773c509",
   "metadata": {},
   "outputs": [],
   "source": [
    "# 10. String Slicing Comparison\n",
    "str1 = \"HELLO WORLD\"                       # Define a string\n",
    "print(str1[6:])                            # Slice from index 6 → Output: 'WORLD'"
   ]
  },
  {
   "cell_type": "code",
   "execution_count": null,
   "id": "55b33d71",
   "metadata": {},
   "outputs": [
    {
     "name": "stdout",
     "output_type": "stream",
     "text": [
      "WORLD\n"
     ]
    }
   ],
   "source": [
    "# 11. Concatenation\n",
    "list1 = [1, 2, 3, 4]                       # First list\n",
    "list2 = [11, 12, 13, 14]                   # Second list\n",
    "list3 = list1 + list2                      # Concatenate both lists\n",
    "print(list3)                               # Output: [1, 2, 3, 4, 11, 12, 13, 14]\n",
    "\n",
    "tup1 = (\"welcome\", \"to\", \"today's\")        # First tuple\n",
    "tup2 = (\"class\", \"on\", \"python\")           # Second tuple\n",
    "tup3 = tup1 + tup2                         # Concatenate both tuples\n",
    "print(tup3)                                # Output: ('welcome', 'to', \"today's\", 'class', 'on', 'python')\n",
    "print(len(tup3))                           # Output: 6\n"
   ]
  },
  {
   "cell_type": "code",
   "execution_count": 37,
   "id": "27ba2eae",
   "metadata": {},
   "outputs": [
    {
     "name": "stdout",
     "output_type": "stream",
     "text": [
      "8\n",
      "8\n",
      "28\n",
      "2\n",
      "9\n"
     ]
    }
   ],
   "source": [
    "# 12. Min, Max, Sum Functions\n",
    "list1 = [2, 3, 4, 5, 6, 8]                 # Define a list\n",
    "print(max(list1))                          # Output: 8\n",
    "\n",
    "tuple1 = (2, 3, 4, 5, 6, 8)                # Define a tuple\n",
    "print(max(tuple1))                         # Output: 8\n",
    "print(sum(tuple1))                         # Output: 28\n",
    "print(min(tuple1))                         # Output: 2\n",
    "\n",
    "t = (5.5, 4.2, 5, 9)                       # Mixed numeric tuple\n",
    "print(max(t))                              # Output: 9\n"
   ]
  },
  {
   "cell_type": "code",
   "execution_count": 41,
   "id": "ebccae45",
   "metadata": {},
   "outputs": [
    {
     "name": "stdout",
     "output_type": "stream",
     "text": [
      "7\n",
      "2\n",
      "2\n"
     ]
    }
   ],
   "source": [
    "# 13. Nested Tuple Access\n",
    "tuple1 = (1, 2, 3, 4, \"hello\", \"world\", (1, 2, 3))  # Tuple containing nested tuple\n",
    "print(len(tuple1))                         # Output: 7\n",
    "print(tuple1[6][1])                        # Access nested tuple element → Output: 2\n",
    "print(tuple1[-1][-2])                      # Access via negative index → Output: 2\n"
   ]
  },
  {
   "cell_type": "code",
   "execution_count": 42,
   "id": "37350b49",
   "metadata": {},
   "outputs": [
    {
     "name": "stdout",
     "output_type": "stream",
     "text": [
      "['Comp Sc', 'Chem', 'Phy', 'Math']\n"
     ]
    }
   ],
   "source": [
    "# 14. Immutability\n",
    "list_1 = [\"Bio\", \"Chem\", \"Phy\", \"Math\"]    # Define a list\n",
    "list_1[0] = \"Comp Sc\"                      # Modify first element\n",
    "print(list_1)                              # Output: ['Comp Sc', 'Chem', 'Phy', 'Math']\n",
    "\n",
    "tuple1_1 = (\"Bio\", \"Chem\", \"Phy\", \"Math\")  # Define a tuple\n",
    "# tuple1_1[0] = \"Comp Sc\"                  # Raises TypeError: tuples are immutable\n"
   ]
  },
  {
   "cell_type": "code",
   "execution_count": null,
   "id": "fe6f2c60",
   "metadata": {},
   "outputs": [],
   "source": [
    "# 15. Updating Tuple via Concatenation\n",
    "t = (\"Hello!!\", \"Welcome\", 5, 10, \"world\", \"of\", \"Analytics!!\")  # Define tuple\n",
    "new_tuple = t[0:2] + (\"to\", \"the\") + t[-3:]                      # Create new tuple by concatenation\n",
    "print(new_tuple)                                                 # Output: ('Hello!!', 'Welcome', 'to', 'the', 'world', 'of', 'Analytics!!')\n"
   ]
  },
  {
   "cell_type": "code",
   "execution_count": null,
   "id": "012c8d28",
   "metadata": {},
   "outputs": [
    {
     "name": "stdout",
     "output_type": "stream",
     "text": [
      "('Hello!!', 'Welcome', 'to', 'the', 'world', 'of', 'Analytics!!')\n"
     ]
    }
   ],
   "source": [
    "# 16. Accessing Elements in Tuple\n",
    "t = (\"disco\", 12, 4.5)                    # Define a tuple\n",
    "print(t[0][2])                            # Access third letter of 'disco' → Output: 's'\n",
    "print(t[0][-3])                           # Access same letter using negative index → Output: 's'\n",
    "print(t[-3][-3])                          # Using two negatives → Output: 's'\n",
    "print(t[-3][2])                           # Another access pattern → Output: 's'\n"
   ]
  },
  {
   "cell_type": "code",
   "execution_count": null,
   "id": "56300518",
   "metadata": {},
   "outputs": [
    {
     "data": {
      "text/plain": [
       "'s'"
      ]
     },
     "execution_count": 47,
     "metadata": {},
     "output_type": "execute_result"
    }
   ],
   "source": [
    "# 17. Updating Tuple via Type Casting\n",
    "tup = (1, 2, 3, 55)                        # Original tuple\n",
    "list_a = list(tup)                         # Convert tuple to list\n",
    "list_a[-1] = 4                             # Modify last element\n",
    "tup = tuple(list_a)                        # Convert back to tuple\n",
    "print(tup)                                 # Output: (1, 2, 3, 4)\n"
   ]
  },
  {
   "cell_type": "code",
   "execution_count": null,
   "id": "00930a5c",
   "metadata": {},
   "outputs": [
    {
     "data": {
      "text/plain": [
       "(1, 2, 3, 66)"
      ]
     },
     "execution_count": 48,
     "metadata": {},
     "output_type": "execute_result"
    }
   ],
   "source": [
    "# 18. Sorting Tuple\n",
    "t = (2, 3, 8, 5, 4, 1)                     # Define tuple\n",
    "new_var = sorted(t)                        # Sort tuple elements (returns list)\n",
    "print(new_var)                             # Output: [1, 2, 3, 4, 5, 8]\n",
    "print(type(new_var))                       # Output: <class 'list'>\n",
    "\n",
    "t2 = tuple(new_var)                        # Convert sorted list back to tuple\n",
    "print(t2)                                  # Output: (1, 2, 3, 4, 5, 8)\n"
   ]
  },
  {
   "cell_type": "code",
   "execution_count": null,
   "id": "4543b26b",
   "metadata": {},
   "outputs": [
    {
     "data": {
      "text/plain": [
       "(1, 2, 3, 4, 5, 8)"
      ]
     },
     "execution_count": 55,
     "metadata": {},
     "output_type": "execute_result"
    }
   ],
   "source": [
    "# 19. Nested Tuple Access\n",
    "t = (1, 5, \"Hello\", \"World\", (\"Java\", \"Python\"))  # Tuple with nested tuple\n",
    "print(t[4][0])                        # Access first item of nested tuple → Output: 'Java'\n",
    "print(t[4][-2])                       # Access same using negative index → Output: 'Java'\n",
    "print(t[-1][-2])                      # Access using double negative index → Output: 'Java'\n",
    "print(t[-1][0])                       # Access first element again → Output: 'Java'\n"
   ]
  },
  {
   "cell_type": "code",
   "execution_count": 56,
   "id": "9d4e6e22",
   "metadata": {},
   "outputs": [
    {
     "name": "stdout",
     "output_type": "stream",
     "text": [
      "Rajkot\n"
     ]
    }
   ],
   "source": [
    "# 20. Tuple with Nested List\n",
    "tuple2 = (\"India\", \"Delhi\", 5, 10, [\"Rajkot\", \"Chennai\"])  # Tuple with list\n",
    "print(tuple2[4][0])                   # Access first element of nested list → Output: 'Rajkot'\n"
   ]
  },
  {
   "cell_type": "code",
   "execution_count": null,
   "id": "efbd669f",
   "metadata": {},
   "outputs": [],
   "source": [
    "# 21. Sorting Tuple (Descending)\n",
    "tuple1 = (1, 2, 55, 4, 19, 22)         # Define tuple\n",
    "list1 = sorted(tuple1, reverse=True)   # Sort in descending order\n",
    "tuple2 = tuple(list1)                  # Convert list back to tuple\n",
    "print(tuple2)                          # Output: (55, 22, 19, 4, 2, 1)\n"
   ]
  },
  {
   "cell_type": "code",
   "execution_count": 59,
   "id": "75dbec38",
   "metadata": {},
   "outputs": [
    {
     "name": "stdout",
     "output_type": "stream",
     "text": [
      "<class 'str'>\n",
      "<class 'tuple'>\n",
      "<class 'tuple'>\n"
     ]
    }
   ],
   "source": [
    "# 22. Questions / Edge Cases\n",
    "\n",
    "# Q1: Index Out of Bounds\n",
    "t = (1, 2, 4, 3)\n",
    "# t[4]                               # Raises IndexError: tuple index out of range\n",
    "\n",
    "# Q2: Tuple Declarations\n",
    "x = ('2')                             # Parentheses without comma = string\n",
    "print(type(x))                        # Output: <class 'str'>\n",
    "\n",
    "x = 1, 2,                             # Comma makes it a tuple\n",
    "print(type(x))                        # Output: <class 'tuple'>\n",
    "\n",
    "x = ((1, 2, 3), 4, 5)                 # Nested tuple structure\n",
    "print(type(x))                        # Output: <class 'tuple'>\n",
    "\n",
    "# x = (Hello, '2', '3')              # Raises NameError (Hello undefined)\n"
   ]
  },
  {
   "cell_type": "code",
   "execution_count": null,
   "id": "4a856968",
   "metadata": {},
   "outputs": [],
   "source": [
    "# 23. Updating Tuple via List Conversion\n",
    "tuple1_1 = (\"Bio\", \"Chem\", \"Phy\", \"Math\")  # Define tuple\n",
    "new_tup1 = \"Comp Sc\",                      # Create single-element tuple\n",
    "print(new_tup1 + tuple1_1[1:])             # Concatenate → Output: ('Comp Sc', 'Chem', 'Phy', 'Math')\n",
    "\n",
    "list1 = list(tuple1_1)                     # Convert tuple to list\n",
    "list1[0] = \"Comp Sc\"                       # Modify element\n",
    "tup1 = tuple(list1)                        # Convert list back to tuple\n",
    "print(tup1)                                # Output: ('Comp Sc', 'Chem', 'Phy', 'Math')\n"
   ]
  },
  {
   "cell_type": "code",
   "execution_count": null,
   "id": "c7c67baa",
   "metadata": {},
   "outputs": [],
   "source": []
  },
  {
   "cell_type": "code",
   "execution_count": null,
   "id": "0736f52a",
   "metadata": {},
   "outputs": [],
   "source": []
  },
  {
   "cell_type": "code",
   "execution_count": null,
   "id": "08f5d105",
   "metadata": {},
   "outputs": [],
   "source": []
  },
  {
   "cell_type": "code",
   "execution_count": null,
   "id": "e9179d1a",
   "metadata": {},
   "outputs": [],
   "source": []
  },
  {
   "cell_type": "code",
   "execution_count": null,
   "id": "893290e1",
   "metadata": {},
   "outputs": [],
   "source": []
  },
  {
   "cell_type": "code",
   "execution_count": null,
   "id": "16978017",
   "metadata": {},
   "outputs": [],
   "source": []
  },
  {
   "cell_type": "code",
   "execution_count": null,
   "id": "e5744c62",
   "metadata": {},
   "outputs": [],
   "source": []
  },
  {
   "cell_type": "code",
   "execution_count": null,
   "id": "3ff951d3",
   "metadata": {},
   "outputs": [],
   "source": []
  },
  {
   "cell_type": "code",
   "execution_count": null,
   "id": "d9eed8c3",
   "metadata": {},
   "outputs": [],
   "source": []
  },
  {
   "cell_type": "code",
   "execution_count": null,
   "id": "bf01264f",
   "metadata": {},
   "outputs": [],
   "source": []
  },
  {
   "cell_type": "code",
   "execution_count": null,
   "id": "afc02b63",
   "metadata": {},
   "outputs": [],
   "source": []
  },
  {
   "cell_type": "code",
   "execution_count": null,
   "id": "5cb86227",
   "metadata": {},
   "outputs": [],
   "source": []
  },
  {
   "cell_type": "code",
   "execution_count": null,
   "id": "94ccbe46",
   "metadata": {},
   "outputs": [],
   "source": []
  },
  {
   "cell_type": "code",
   "execution_count": null,
   "id": "5af46a80",
   "metadata": {},
   "outputs": [],
   "source": []
  },
  {
   "cell_type": "code",
   "execution_count": null,
   "id": "589bb4ae",
   "metadata": {},
   "outputs": [],
   "source": []
  },
  {
   "cell_type": "code",
   "execution_count": null,
   "id": "eccf5391",
   "metadata": {},
   "outputs": [],
   "source": []
  },
  {
   "cell_type": "code",
   "execution_count": null,
   "id": "9e3d67d4",
   "metadata": {},
   "outputs": [],
   "source": []
  },
  {
   "cell_type": "code",
   "execution_count": null,
   "id": "5bd13801",
   "metadata": {},
   "outputs": [],
   "source": []
  }
 ],
 "metadata": {
  "kernelspec": {
   "display_name": "Python 3",
   "language": "python",
   "name": "python3"
  },
  "language_info": {
   "codemirror_mode": {
    "name": "ipython",
    "version": 3
   },
   "file_extension": ".py",
   "mimetype": "text/x-python",
   "name": "python",
   "nbconvert_exporter": "python",
   "pygments_lexer": "ipython3",
   "version": "3.12.0"
  }
 },
 "nbformat": 4,
 "nbformat_minor": 5
}
