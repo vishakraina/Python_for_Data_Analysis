{
 "cells": [
  {
   "cell_type": "markdown",
   "id": "920683a4",
   "metadata": {},
   "source": [
    "# ===============================\n",
    "# Binary and Relational Operators\n",
    "# ==============================="
   ]
  },
  {
   "cell_type": "code",
   "execution_count": 5,
   "id": "c2bb8a33",
   "metadata": {},
   "outputs": [
    {
     "name": "stdout",
     "output_type": "stream",
     "text": [
      "<class 'list'>\n",
      "[1, 2, 30]\n",
      "3\n",
      "True\n",
      "False\n",
      "False\n"
     ]
    }
   ],
   "source": [
    "# 1. Equal To (==)\n",
    "a = [1, 2, 30]                 # Create a list of integers\n",
    "print(type(a))                 # Output: <class 'list'>\n",
    "print(a)                       # Output: [1, 2, 30]\n",
    "print(len(a))                  # Output: 3 (number of elements in the list)\n",
    "print(12 == 12)                # Compare equality → True\n",
    "print(12 == 13)                # Compare equality → False\n",
    "print(10 == 5)                 # Compare equality → False"
   ]
  },
  {
   "cell_type": "code",
   "execution_count": 4,
   "id": "c21ed20b",
   "metadata": {},
   "outputs": [
    {
     "name": "stdout",
     "output_type": "stream",
     "text": [
      "True\n",
      "False\n"
     ]
    }
   ],
   "source": [
    "# 2. Not Equal To (!=)\n",
    "print(10 != 5)                 # Check if not equal → True\n",
    "print(5 != 5)                  # Check if not equal → False"
   ]
  },
  {
   "cell_type": "code",
   "execution_count": null,
   "id": "81822169",
   "metadata": {},
   "outputs": [],
   "source": [
    "# 3. Greater Than, Less Than, and Comparisons\n",
    "a = 10                         # Assign 10 to variable a\n",
    "print(a == 5)                  # Equality check → False\n",
    "print(10 < 5)                  # Less than → False\n",
    "print(10 >= 5)                 # Greater than or equal to → True\n",
    "print(10 <= 5)                 # Less than or equal to → False\n",
    "print(2 <= 5)                  # Less than or equal to → True"
   ]
  },
  {
   "cell_type": "markdown",
   "id": "27d0b536",
   "metadata": {},
   "source": [
    "# ===============================\n",
    "# Decision Making (If-Else)\n",
    "# ==============================="
   ]
  },
  {
   "cell_type": "code",
   "execution_count": null,
   "id": "e193f331",
   "metadata": {},
   "outputs": [],
   "source": [
    "# 1. Age-Based Classification\n",
    "age = 51                       # Assign age value\n",
    "if age < 50:                   # If condition\n",
    "    print(\"young\")\n",
    "else:                          \n",
    "    print(\"adult\")             # Output: adult"
   ]
  },
  {
   "cell_type": "code",
   "execution_count": null,
   "id": "83a7ff78",
   "metadata": {},
   "outputs": [],
   "source": [
    "# 2. Nested If-Else for Age Categories\n",
    "age = 25\n",
    "if age < 20:\n",
    "    print(\"young\")\n",
    "elif age < 30:\n",
    "    print(\"mid level\")         # Output: mid level\n",
    "else:\n",
    "    print(\"adult\")"
   ]
  },
  {
   "cell_type": "code",
   "execution_count": null,
   "id": "6b900abe",
   "metadata": {},
   "outputs": [],
   "source": [
    "# 3. Even or Odd Check\n",
    "x = 51\n",
    "if x % 2 == 0:                 # Check divisibility by 2\n",
    "    print(x, \"is an even number\")\n",
    "else:\n",
    "    print(x, \"is an odd number\")  # Output: 51 is an odd number"
   ]
  },
  {
   "cell_type": "code",
   "execution_count": null,
   "id": "fe9e21a5",
   "metadata": {},
   "outputs": [],
   "source": [
    "# 4. Party Age Restriction\n",
    "x = 11\n",
    "if x < 18 or x > 60:           # Using OR operator\n",
    "    print(\"Going to the party\")   # Output: Going to the party\n",
    "else:\n",
    "    print(\"Not going\")"
   ]
  },
  {
   "cell_type": "code",
   "execution_count": null,
   "id": "75afac92",
   "metadata": {},
   "outputs": [],
   "source": [
    "# 5. Party Age Restriction with Input\n",
    "x = int(input(\"Enter your age: \"))  # Take user input\n",
    "if x <= 18 or x >= 60:\n",
    "    print(\"Welcome to the party\")\n",
    "else:\n",
    "    print(\"Sorry!! you do not fit in PM's age criteria\")\n",
    "# Example Inputs:\n",
    "# 19 → Output: Sorry!! you do not fit in PM's age criteria\n",
    "# 70 → Output: Welcome to the party"
   ]
  },
  {
   "cell_type": "code",
   "execution_count": null,
   "id": "56803b7d",
   "metadata": {},
   "outputs": [],
   "source": [
    "# 6. Discount Program\n",
    "shopping_total = 500\n",
    "if shopping_total >= 5000:\n",
    "    print(\"You won a discount voucher of flat 1000 on next purchase\")\n",
    "elif shopping_total >= 2500:\n",
    "    print(\"You won a discount voucher of flat 500 on next purchase\")\n",
    "elif shopping_total >= 1000:\n",
    "    print(\"You won a discount voucher of flat 100 on next purchase\")\n",
    "else:\n",
    "    print(\"OOPS!! no discount for you!!!\")  # Output: OOPS!! no discount for you!!!"
   ]
  },
  {
   "cell_type": "code",
   "execution_count": null,
   "id": "38d22ed9",
   "metadata": {},
   "outputs": [],
   "source": [
    "# 7. Nested If-Else (World Cup Finals)\n",
    "world_cups = {2019: ['England', 'New-Zeland'], \n",
    "              2015: [\"Australia\", \"New Zeland\"], \n",
    "              2011: [\"India\", \"Sri Lanka\"], \n",
    "              2007: [\"Australia\", \"Sri Lanka\"], \n",
    "              2003: [\"Australia\", \"India\"]}\n",
    "print(world_cups[2019])        # Output: ['England', 'New-Zeland']\n",
    "year = int(input(\"Enter year to check India made it to Finals: \"))\n",
    "if year in world_cups:         # Check if year key exists\n",
    "    if \"India\" in world_cups[year]:   # Nested condition\n",
    "        print(\"India made it to Finals\")\n",
    "    else:\n",
    "        print(\"India could not make it to Finals\")\n",
    "else:\n",
    "    print(\"World cup wasn't played in\", year)"
   ]
  },
  {
   "cell_type": "code",
   "execution_count": null,
   "id": "41f864ac",
   "metadata": {},
   "outputs": [],
   "source": [
    "# 8. Practice: Logical Operators\n",
    "X = 19\n",
    "if (X > 10 and X < 15):        # Using AND\n",
    "    print('YES')\n",
    "else:\n",
    "    print('No')                # Output: No"
   ]
  },
  {
   "cell_type": "code",
   "execution_count": null,
   "id": "5671644e",
   "metadata": {},
   "outputs": [],
   "source": [
    "# 9. Maximum of Three Variables\n",
    "a = 21\n",
    "b = 16\n",
    "c = 20\n",
    "if (a > b) and (a > c):      # Output: c   \n",
    "    print(\"a\")\n",
    "elif (b > a) and (b > c):\n",
    "    print(\"b\")\n",
    "else:\n",
    "    print(\"c\")                 "
   ]
  },
  {
   "cell_type": "code",
   "execution_count": null,
   "id": "bb8fb4a5",
   "metadata": {},
   "outputs": [],
   "source": [
    "# 10. Grade Output Sequence\n",
    "score = int(input())           # Take user input\n",
    "if score >= 90:\n",
    "    print('A')\n",
    "elif score >= 80:\n",
    "    print('B')\n",
    "elif score >= 70:\n",
    "    print('C')\n",
    "elif score >= 60:\n",
    "    print('D')\n",
    "else:\n",
    "    print('F')\n",
    "# Inputs: 70, 91, 67, 88 → Outputs: C, A, D, B"
   ]
  },
  {
   "cell_type": "code",
   "execution_count": 6,
   "id": "68f8d784",
   "metadata": {},
   "outputs": [
    {
     "name": "stdout",
     "output_type": "stream",
     "text": [
      "B\n"
     ]
    }
   ],
   "source": [
    "# 12. Nested Conditional Logic\n",
    "if True or True:\n",
    "    if False and True or False:\n",
    "        print('A')\n",
    "    elif False and False or True and True:\n",
    "        print('B')             # Output: B\n",
    "    else:\n",
    "        print('C')\n",
    "else:\n",
    "    print('D')"
   ]
  },
  {
   "cell_type": "code",
   "execution_count": null,
   "id": "5ad7cbb6",
   "metadata": {},
   "outputs": [],
   "source": [
    "# 13. Check if String Starts with Vowel\n",
    "input_str = 'analytics'\n",
    "vowels = 'aeiou'\n",
    "if input_str[0].lower() in vowels:\n",
    "    print(\"YES\")               # Output: YES\n",
    "else:\n",
    "    print(\"NO\")"
   ]
  },
  {
   "cell_type": "markdown",
   "id": "a161e378",
   "metadata": {},
   "source": [
    "# ===============================\n",
    "# Iteration\n",
    "# ==============================="
   ]
  },
  {
   "cell_type": "code",
   "execution_count": null,
   "id": "00a09f02",
   "metadata": {},
   "outputs": [],
   "source": [
    "# 1. Iterate Over List\n",
    "list_1 = [1, 3, 4, 2, 5, 6]\n",
    "print(len(list_1))             # Output: 6\n",
    "for i in list_1:\n",
    "    print(i)                   # Prints each number"
   ]
  },
  {
   "cell_type": "code",
   "execution_count": null,
   "id": "fd842e30",
   "metadata": {},
   "outputs": [],
   "source": [
    "# 2. Iterate Over String\n",
    "string = \"Himachal Pradesh\"\n",
    "for ch in string:\n",
    "    print(ch, end=\":\")         # Output: H:i:m:a:c:h:a:l: :P:r:a:d:e:s:h:\n"
   ]
  },
  {
   "cell_type": "code",
   "execution_count": 8,
   "id": "0a60f2df",
   "metadata": {},
   "outputs": [
    {
     "name": "stdout",
     "output_type": "stream",
     "text": [
      "1 ['Sam', 24]\n",
      "2 ['Sharma', 25]\n",
      "3 ['Saina', 26]\n",
      "4 ['Saif', 24]\n",
      "5 ['Varun', 27]\n"
     ]
    }
   ],
   "source": [
    "# 3. Iterate Over Dictionary (Keys and Values)\n",
    "students_data = {1: ['Sam', 24], 2: ['Sharma', 25], 3: ['Saina', 26], 4: ['Saif', 24], 5: ['Varun', 27]}\n",
    "for key, val in students_data.items():\n",
    "    print(key, val)            # Prints each key-value pair"
   ]
  },
  {
   "cell_type": "code",
   "execution_count": 9,
   "id": "c152f0b1",
   "metadata": {},
   "outputs": [
    {
     "name": "stdout",
     "output_type": "stream",
     "text": [
      "Sam\n",
      "Sharma\n",
      "Saina\n",
      "Saif\n",
      "Varun\n"
     ]
    }
   ],
   "source": [
    "# 4. Iterate Over Dictionary Values\n",
    "for value in students_data.values():\n",
    "    print(value[0])            # Prints only names"
   ]
  },
  {
   "cell_type": "code",
   "execution_count": null,
   "id": "89cc315e",
   "metadata": {},
   "outputs": [],
   "source": [
    "# 5. Range Function\n",
    "for i in range(1, 11):\n",
    "    print(i, end=\".\")          # Output: 1.2.3.4.5.6.7.8.9.10.\n",
    "for i in range(1, 11, 3):\n",
    "    print(i)                   # Output: 1, 4, 7, 10\n",
    "for i in range(10, 1, -2):\n",
    "    print(i)                   # Output: 10, 8, 6, 4, 2"
   ]
  },
  {
   "cell_type": "code",
   "execution_count": null,
   "id": "925bb979",
   "metadata": {},
   "outputs": [],
   "source": [
    "# 6. While Loop with Input\n",
    "while True:\n",
    "    ch = input()               # Take input from user\n",
    "    if ch == \"quit\":           # Exit loop if 'quit'\n",
    "        break\n",
    "    print(ch)                  # Echo input text"
   ]
  },
  {
   "cell_type": "code",
   "execution_count": 1,
   "id": "bccdd028",
   "metadata": {},
   "outputs": [
    {
     "name": "stdout",
     "output_type": "stream",
     "text": [
      "3 6 9 12 18 21 "
     ]
    }
   ],
   "source": [
    "# 7. While Loop with Continue\n",
    "x = 0\n",
    "while x <= 20:\n",
    "    x += 3\n",
    "    if x % 5 == 0:\n",
    "        continue\n",
    "    print(x, end=\" \")          # Output: 3 6 9 12 18 21"
   ]
  },
  {
   "cell_type": "markdown",
   "id": "e79b71a4",
   "metadata": {},
   "source": [
    "# ===============================\n",
    "# Comprehensions\n",
    "# ==============================="
   ]
  },
  {
   "cell_type": "code",
   "execution_count": null,
   "id": "8f690afc",
   "metadata": {},
   "outputs": [],
   "source": [
    "# 1. List Comprehension (Length of Strings)\n",
    "l1 = [\"automobiles\", \"Honda\", \"Benz\", \"Suzuki\", \"Morris Garages\"]\n",
    "l2 = [len(i) for i in l1]\n",
    "print(l2)                      # Output: [11, 5, 4, 6, 13]"
   ]
  },
  {
   "cell_type": "code",
   "execution_count": null,
   "id": "b865f047",
   "metadata": {},
   "outputs": [],
   "source": [
    "# 2. List Comprehension (Title Case)\n",
    "list_1 = ['VARMA', 'raj', 'Gupta', 'SaNdeeP']\n",
    "new_list = [items.capitalize() for items in list_1]\n",
    "print(new_list)                # Output: ['Varma', 'Raj', 'Gupta', 'Sandeep']"
   ]
  },
  {
   "cell_type": "code",
   "execution_count": 8,
   "id": "777ecd57",
   "metadata": {},
   "outputs": [
    {
     "name": "stdout",
     "output_type": "stream",
     "text": [
      "{11: 'automobiles', 5: 'Honda', 4: 'Benz', 6: 'Suzuki', 14: 'Morris Garages'}\n"
     ]
    }
   ],
   "source": [
    "# 3. Dictionary Comprehension\n",
    "l1 = [\"automobiles\", \"Honda\", \"Benz\", \"Suzuki\", \"Morris Garages\"]\n",
    "d = {len(i): i for i in l1}\n",
    "print(d)                       # Output: {11: 'automobiles', 5: 'Honda', 4: 'Benz', 6: 'Suzuki', 13: 'Morris Garages'}\n"
   ]
  },
  {
   "cell_type": "code",
   "execution_count": 9,
   "id": "dc2655e4",
   "metadata": {},
   "outputs": [
    {
     "name": "stdout",
     "output_type": "stream",
     "text": [
      "{'a', 'i'}\n"
     ]
    }
   ],
   "source": [
    "# 4. Set Comprehension (Vowels)\n",
    "word = \"analytics\"\n",
    "vowels = {i for i in word if i in \"aeiou\"}\n",
    "print(vowels)                  # Output: {'a', 'i'}"
   ]
  },
  {
   "cell_type": "code",
   "execution_count": 12,
   "id": "79b672bc",
   "metadata": {},
   "outputs": [
    {
     "name": "stdout",
     "output_type": "stream",
     "text": [
      "['old', 'apple', 'item', 'euphoria']\n"
     ]
    }
   ],
   "source": [
    "# 5. List Comprehension (Vowel-Starting Words)\n",
    "input_list = ['wood', 'old', 'apple', 'big', 'item', 'euphoria']\n",
    "new_list = [i for i in input_list if i[0].lower() in 'aeiou']\n",
    "print(new_list)                # Output: ['old', 'apple', 'item', 'euphoria']"
   ]
  },
  {
   "cell_type": "code",
   "execution_count": null,
   "id": "ac6040fe",
   "metadata": {},
   "outputs": [
    {
     "name": "stdout",
     "output_type": "stream",
     "text": [
      "['old', 'apple', 'item', 'euphoria']\n"
     ]
    }
   ],
   "source": [
    "# 6. Dictionary Comprehension (Multiples of 3 Cubed)\n",
    "input_list = list(range(1, 100))\n",
    "output_dict = {val: val**3 for val in input_list if val % 3 == 0}\n",
    "print(output_dict)             # Output: {3: 27, 6: 216, 9: 729, ..., 99: 970299}"
   ]
  },
  {
   "cell_type": "code",
   "execution_count": null,
   "id": "3b33bfdb",
   "metadata": {},
   "outputs": [
    {
     "name": "stdout",
     "output_type": "stream",
     "text": [
      "{3: 27, 6: 216, 9: 729, 12: 1728, 15: 3375, 18: 5832, 21: 9261, 24: 13824, 27: 19683, 30: 27000, 33: 35937, 36: 46656, 39: 59319, 42: 74088, 45: 91125, 48: 110592, 51: 132651, 54: 157464, 57: 185193, 60: 216000, 63: 250047, 66: 287496, 69: 328509, 72: 373248, 75: 421875, 78: 474552, 81: 531441, 84: 592704, 87: 658503, 90: 729000, 93: 804357, 96: 884736, 99: 970299}\n"
     ]
    }
   ],
   "source": [
    "# 7. Nested List Comprehension\n",
    "print([i + j for i in \"abc\" for j in \"def\"])  # Output: ['ad', 'ae', 'af', 'bd', 'be', 'bf', 'cd', 'ce', 'cf']\n"
   ]
  },
  {
   "cell_type": "code",
   "execution_count": null,
   "id": "0d585275",
   "metadata": {},
   "outputs": [
    {
     "name": "stdout",
     "output_type": "stream",
     "text": [
      "['ad', 'ae', 'af', 'bd', 'be', 'bf', 'cd', 'ce', 'cf']\n"
     ]
    }
   ],
   "source": [
    "# 8. Dictionary Comprehension (String Multiplication)\n",
    "d = {x.upper(): x * 3 for x in 'acbd'}\n",
    "print(d)                       # Output: {'A': 'aaa', 'C': 'ccc', 'B': 'bbb', 'D': 'ddd'}\n"
   ]
  },
  {
   "cell_type": "markdown",
   "id": "4ae2c067",
   "metadata": {},
   "source": [
    "# ===============================\n",
    "# Functions\n",
    "# ==============================="
   ]
  },
  {
   "cell_type": "code",
   "execution_count": 22,
   "id": "21108654",
   "metadata": {},
   "outputs": [
    {
     "name": "stdout",
     "output_type": "stream",
     "text": [
      "110\n"
     ]
    }
   ],
   "source": [
    "# 1. Sum of Two Numbers\n",
    "def sum(a=5, b=5):             # Function with default parameters\n",
    "    c = a + b\n",
    "    return c\n",
    "print(sum(50, 60))             # Output: 110"
   ]
  },
  {
   "cell_type": "code",
   "execution_count": null,
   "id": "07b12b4a",
   "metadata": {},
   "outputs": [],
   "source": [
    "# 2. Factorial Function\n",
    "def factorial(n):\n",
    "    fact = 1\n",
    "    for i in range(1, n + 1):\n",
    "        fact *= i\n",
    "    return fact\n",
    "print(factorial(4))            # Output: 24 (4 * 3 * 2 * 1)"
   ]
  },
  {
   "cell_type": "code",
   "execution_count": null,
   "id": "9b5e6519",
   "metadata": {},
   "outputs": [],
   "source": [
    "# 3. Function with Default Arguments\n",
    "def func(name=\"default\", age=35, city=\"Mumbai\"):\n",
    "    print(\"name:\", name)\n",
    "    print(\"age:\", age)\n",
    "    print(\"city:\", city)\n",
    "func(\"Jane\", city=\"Banglore\")\n",
    "# Output:\n",
    "# name: Jane\n",
    "# age: 35\n",
    "# city: Banglore"
   ]
  },
  {
   "cell_type": "code",
   "execution_count": 37,
   "id": "03620c10",
   "metadata": {},
   "outputs": [
    {
     "name": "stdout",
     "output_type": "stream",
     "text": [
      "(1, 3, 'abc')\n"
     ]
    }
   ],
   "source": [
    "# 4. Variable Arguments Function\n",
    "def var_func(*args):           # *args accepts variable number of arguments\n",
    "    print(args)\n",
    "var_func(1, 3, \"abc\")          # Output: (1, 3, 'abc')"
   ]
  },
  {
   "cell_type": "markdown",
   "id": "a1694b96",
   "metadata": {},
   "source": [
    "# ===============================\n",
    "# Lambda Functions\n",
    "# ==============================="
   ]
  },
  {
   "cell_type": "code",
   "execution_count": null,
   "id": "64a1eba2",
   "metadata": {},
   "outputs": [],
   "source": [
    "# 1. Sum of Two Numbers\n",
    "f = lambda x, y: x + y\n",
    "print(f(2, 5))                 # Output: 7"
   ]
  },
  {
   "cell_type": "code",
   "execution_count": null,
   "id": "53024d4e",
   "metadata": {},
   "outputs": [
    {
     "name": "stdout",
     "output_type": "stream",
     "text": [
      "7\n"
     ]
    }
   ],
   "source": [
    "# 2. Even or Odd Check\n",
    "f = lambda x: \"even\" if x % 2 == 0 else \"odd\"\n",
    "print(f(11))                   # Output: odd"
   ]
  },
  {
   "cell_type": "code",
   "execution_count": null,
   "id": "e95a92bc",
   "metadata": {},
   "outputs": [
    {
     "name": "stdout",
     "output_type": "stream",
     "text": [
      "Odd\n"
     ]
    }
   ],
   "source": [
    "# 3. Greater of Two Numbers\n",
    "greater = lambda a, b: a if a > b else b\n",
    "print(greater(9, 31))          # Output: 31"
   ]
  },
  {
   "cell_type": "markdown",
   "id": "ed82c7f4",
   "metadata": {},
   "source": [
    "# ===============================\n",
    "# Map, Filter, Reduce\n",
    "# ==============================="
   ]
  },
  {
   "cell_type": "code",
   "execution_count": null,
   "id": "1cabdc88",
   "metadata": {},
   "outputs": [],
   "source": [
    "# 1. Map (Uppercase Countries)\n",
    "countries = [\"India\", \"Japan\", \"Italy\", \"France\"]\n",
    "print(list(map(lambda x: x.upper(), countries)))\n",
    "# Output: ['INDIA', 'JAPAN', 'ITALY', 'FRANCE']"
   ]
  },
  {
   "cell_type": "code",
   "execution_count": null,
   "id": "a30bd876",
   "metadata": {},
   "outputs": [],
   "source": [
    "# 2. Filter (Countries Starting with 'I')\n",
    "print(list(filter(lambda x: x.startswith(\"I\"), countries)))\n",
    "# Output: ['India', 'Italy']"
   ]
  },
  {
   "cell_type": "code",
   "execution_count": null,
   "id": "e960cf05",
   "metadata": {},
   "outputs": [],
   "source": [
    "# 3. Reduce (Concatenate Countries)\n",
    "from functools import reduce\n",
    "print(reduce(lambda x, y: x + \" \" + y, countries))\n",
    "# Output: India Japan Italy France"
   ]
  },
  {
   "cell_type": "code",
   "execution_count": null,
   "id": "8d56b17a",
   "metadata": {},
   "outputs": [],
   "source": [
    "# 4. Map (Square Numbers)\n",
    "L1 = [2, 4, 5]\n",
    "print(list(map(lambda x: x**2, L1)))          # Output: [4, 16, 25]"
   ]
  },
  {
   "cell_type": "code",
   "execution_count": null,
   "id": "2eab111a",
   "metadata": {},
   "outputs": [],
   "source": [
    "# 5. Filter (Multiples of 3)\n",
    "my_list = [3, 4, 5, 6, 7, 8, 9]\n",
    "divby3 = lambda x: x % 3 == 0\n",
    "print(list(filter(divby3, my_list)))          # Output: [3, 6, 9]"
   ]
  },
  {
   "cell_type": "code",
   "execution_count": 46,
   "id": "1e3cd831",
   "metadata": {},
   "outputs": [
    {
     "name": "stdout",
     "output_type": "stream",
     "text": [
      "2\n"
     ]
    }
   ],
   "source": [
    "# 6. Count Students Above Age 18\n",
    "students_data = {1: ['Sam', 15], 2: ['Sharma', 18], 3: ['Saina', 16], 4: ['Saif', 19], 5: ['Varun', 20]}\n",
    "print(len(list(filter(lambda x: x[1] > 18, students_data.values()))))  # Output: 2"
   ]
  },
  {
   "cell_type": "markdown",
   "id": "b4545ea3",
   "metadata": {},
   "source": [
    "# ===============================\n",
    "# Practice Questions\n",
    "# ==============================="
   ]
  },
  {
   "cell_type": "code",
   "execution_count": null,
   "id": "b74b2c54",
   "metadata": {},
   "outputs": [],
   "source": [
    "# 1. Negative Even Numbers (-100 to 0)\n",
    "print(list(range(-100, -1, 2)))              # Output: [-100, -98, ..., -2]\n",
    "print(sorted(set(range(-2, -101, -2))))      # Output: [-100, -98, ..., -2]\n",
    "l = []                                       # Empty list\n",
    "for i in range(-100, 0):\n",
    "    if i % 2 == 0:\n",
    "        l.append(i)\n",
    "print(l)   "
   ]
  },
  {
   "cell_type": "code",
   "execution_count": null,
   "id": "a1d0720d",
   "metadata": {},
   "outputs": [],
   "source": [
    "# 2. List Comprehension (Squares)\n",
    "n = int(input())                             # Take input\n",
    "L3 = [i * i for i in range(1, n + 1)]        # Generate squares\n",
    "print(L3)                                    # Input: 4 → Output: [1, 4, 9, 16]"
   ]
  }
 ],
 "metadata": {
  "kernelspec": {
   "display_name": "Python 3",
   "language": "python",
   "name": "python3"
  },
  "language_info": {
   "codemirror_mode": {
    "name": "ipython",
    "version": 3
   },
   "file_extension": ".py",
   "mimetype": "text/x-python",
   "name": "python",
   "nbconvert_exporter": "python",
   "pygments_lexer": "ipython3",
   "version": "3.12.0"
  }
 },
 "nbformat": 4,
 "nbformat_minor": 5
}
