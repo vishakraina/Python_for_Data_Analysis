{
 "cells": [
  {
   "cell_type": "code",
   "execution_count": null,
   "id": "9f625637",
   "metadata": {},
   "outputs": [],
   "source": [
    "# 1. List to Set Conversion (Removing Duplicates)\n",
    "list1 = [1, 2, 3, 4, 5, 6, 5, 7, 2, 2, 2, 3]  # List with duplicate elements\n",
    "print(type(list1))  # Output: <class 'list'> - It's a list\n",
    "print(len(list1))  # Output: 12 - Total elements including duplicates\n",
    "set_1 = set(list1)  # Convert list to set, removes duplicates automatically\n",
    "print(len(set_1))  # Output: 7 - Only unique elements remain\n",
    "print(set_1)  # Output: {1, 2, 3, 4, 5, 6, 7} - Unordered collection of unique elements\n"
   ]
  },
  {
   "cell_type": "code",
   "execution_count": 17,
   "id": "940c09b0",
   "metadata": {},
   "outputs": [
    {
     "name": "stdout",
     "output_type": "stream",
     "text": [
      "5\n",
      "{'E', 'B', 'A', 'D', 'C'}\n"
     ]
    }
   ],
   "source": [
    "# 2. Unique Grades from List\n",
    "list_2 = ['A', 'B', 'C', 'A', 'B', 'C', 'A', 'B', 'C', 'A', 'B', 'C', 'D', 'E']  # List with repeated grades\n",
    "set_2 = set(list_2)  # Convert to set to keep only unique grades\n",
    "print(len(set_2))  # Output: 5 - Total unique grade values\n",
    "print(set_2)  # Output: {'A', 'B', 'C', 'D', 'E'} - Duplicates removed\n"
   ]
  },
  {
   "cell_type": "code",
   "execution_count": null,
   "id": "0797f973",
   "metadata": {},
   "outputs": [],
   "source": [
    "# 3. Indexing Not Supported\n",
    "# set_2[0]  # Raises: TypeError: 'set' object is not subscriptable - Sets don’t support indexing or slicing\n"
   ]
  },
  {
   "cell_type": "code",
   "execution_count": null,
   "id": "a41d803b",
   "metadata": {},
   "outputs": [],
   "source": [
    "# 4. Set from List with Duplicates\n",
    "list1 = [1, 2, 3, 4, 5, 5, 5, 5, 5, 5]  # List with many duplicate elements\n",
    "set_1 = set(list1)  # Convert list to set to remove duplicates\n",
    "print(set_1)  # Output: {1, 2, 3, 4, 5} - Each value appears only once\n"
   ]
  },
  {
   "cell_type": "code",
   "execution_count": null,
   "id": "fc8c7810",
   "metadata": {},
   "outputs": [],
   "source": [
    "# 5. Defining a Set\n",
    "set_3 = {1, 2, 3, 4, 4, 7, 6, 8}  # Defining a set directly, duplicates are ignored\n",
    "print(set_3)  # Output: {1, 2, 3, 4, 6, 7, 8}\n",
    "set_4 = set({})  # Create an empty set using the set() constructor\n",
    "print(type(set_4))  # Output: <class 'set'> - Confirm it’s a set\n",
    "print(set_4)  # Output: set() - Empty set\n"
   ]
  },
  {
   "cell_type": "code",
   "execution_count": 28,
   "id": "573ab6db",
   "metadata": {},
   "outputs": [
    {
     "name": "stdout",
     "output_type": "stream",
     "text": [
      "5\n",
      "6\n",
      "{1, 2, 3, 4, 5, 'India'}\n",
      "{1, 2, 3, 4, 5, 5.5, 'India'}\n",
      "{1, 2, 3, 4, 5, 5.5, 'India'}\n"
     ]
    }
   ],
   "source": [
    "# 6. Adding Elements to Set\n",
    "set_2 = {1, 2, 3, 4, 5}  # Initialize a set\n",
    "print(len(set_2))  # Output: 5 - Initial count\n",
    "set_2.add(\"India\")  # Add a string element\n",
    "print(len(set_2))  # Output: 6 - Count increases\n",
    "print(set_2)  # Output: {1, 2, 3, 4, 5, 'India'}\n",
    "set_2.add(5.5)  # Add a float element\n",
    "print(set_2)  # Output: {1, 2, 3, 4, 5, 5.5, 'India'}\n",
    "set_2.add(\"India\")  # Add duplicate element, no change occurs\n",
    "print(set_2)  # Output: {1, 2, 3, 4, 5, 5.5, 'India'}\n"
   ]
  },
  {
   "cell_type": "code",
   "execution_count": null,
   "id": "cfc07c42",
   "metadata": {},
   "outputs": [
    {
     "name": "stdout",
     "output_type": "stream",
     "text": [
      "5\n",
      "{1, 2, 3, 4, 5, 'India'}\n",
      "{1, 2, 3, 4, 5, 5.5, 'India'}\n"
     ]
    },
    {
     "data": {
      "text/plain": [
       "{1, 2, 3, 4, 5, 5.5, 'India'}"
      ]
     },
     "execution_count": 27,
     "metadata": {},
     "output_type": "execute_result"
    }
   ],
   "source": [
    "# 7. Removing Elements from Set\n",
    "set_2 = {1, 2, 3, 4, 5}  # Create a set\n",
    "set_2.add(\"India\")  # Add a new element\n",
    "print(set_2)  # Output: {1, 2, 3, 4, 5, 'India'}\n",
    "set_2.remove(\"India\")  # Remove the element from set\n",
    "print(set_2)  # Output: {1, 2, 3, 4, 5}\n",
    "# set_2.remove(\"India\")  # Raises KeyError: 'India' - if trying to remove a non-existent element\n"
   ]
  },
  {
   "cell_type": "code",
   "execution_count": 54,
   "id": "65b84f21",
   "metadata": {},
   "outputs": [
    {
     "name": "stdout",
     "output_type": "stream",
     "text": [
      "{0, 1, 2, 3, 4, 5, 6, 8}\n",
      "{0, 1, 2, 3, 4, 5, 6, 8}\n",
      "{2, 4}\n",
      "{2, 4}\n",
      "{0, 8, 6}\n",
      "{0, 8, 6}\n",
      "{0, 1, 3, 5, 6, 8}\n"
     ]
    }
   ],
   "source": [
    "# 8. Set Operations\n",
    "A = {0, 2, 4, 6, 8}  # Define first set\n",
    "B = {1, 2, 3, 4, 5}  # Define second set\n",
    "print(A | B)  # Output: {0, 1, 2, 3, 4, 5, 6, 8} - Union using '|'\n",
    "print(A.union(B))  # Output: {0, 1, 2, 3, 4, 5, 6, 8} - Union using method\n",
    "print(A & B)  # Output: {2, 4} - Intersection using '&'\n",
    "print(A.intersection(B))  # Output: {2, 4} - Intersection using method\n",
    "print(A - B)  # Output: {0, 6, 8} - Elements only in A\n",
    "print(A.difference(B))  # Output: {0, 6, 8} - Same as above using method\n",
    "print(A ^ B)  # Output: {0, 1, 3, 5, 6, 8} - Symmetric difference (elements not common)\n"
   ]
  },
  {
   "cell_type": "code",
   "execution_count": 40,
   "id": "085a2e56",
   "metadata": {},
   "outputs": [
    {
     "name": "stdout",
     "output_type": "stream",
     "text": [
      "{'E', 'F', 'B', 'A', 'D', 'C'}\n"
     ]
    }
   ],
   "source": [
    "# 9. Why Use Sets (Distinct Grades)\n",
    "Grades = [\"A\", \"A\", \"B\", \"C\", \"D\", \"B\", \"B\", \"C\", \"D\", \"E\", \"C\", \"C\", \"A\", \"B\", \"F\", \"D\", \"C\", \"B\", \"C\", \"A\", \"B\", \"F\", \"B\", \"A\", \"E\", \"B\", \"B\", \"C\", \"D\"]\n",
    "print(set(Grades))  # Output: {'A', 'B', 'C', 'D', 'E', 'F'} - Get unique grades only\n"
   ]
  },
  {
   "cell_type": "code",
   "execution_count": 48,
   "id": "91de62d1",
   "metadata": {},
   "outputs": [
    {
     "name": "stdout",
     "output_type": "stream",
     "text": [
      "{1, 3, 5, 7}\n",
      "[1, 3, 5, 7]\n",
      "[1, 3, 5, 7]\n"
     ]
    }
   ],
   "source": [
    "# 10. Finding Common Elements (Sorted)\n",
    "A = [5, 1, 3, 4, 4, 5, 6, 7]  # List A with duplicates\n",
    "B = [3, 3, 5, 5, 1, 7, 2]  # List B with duplicates\n",
    "list1 = set(A) & set(B)  # Intersection of sets\n",
    "print(list1)  # Output: {1, 3, 5, 7}\n",
    "print(sorted(list1))  # Output: [1, 3, 5, 7] - Sorted list of common elements\n",
    "list_1 = [5, 1, 3, 4, 4, 5, 6, 7]\n",
    "list_2 = [3, 3, 5, 5, 1, 7, 2]\n",
    "list1_as_set = set(list_1)  # Convert list_1 to set\n",
    "i = list1_as_set.intersection(list_2)  # Find intersection with list_2\n",
    "print(list(i))  # Output: [1, 3, 5, 7]\n"
   ]
  },
  {
   "cell_type": "code",
   "execution_count": 53,
   "id": "ee62dd26",
   "metadata": {},
   "outputs": [
    {
     "name": "stdout",
     "output_type": "stream",
     "text": [
      "4\n"
     ]
    }
   ],
   "source": [
    "# 11. Set Length with Duplicates\n",
    "nums = set([1, 1, 2, 3, 3, 3, 4])  # Convert list with duplicates to set\n",
    "print(len(nums))  # Output: 4 - Unique elements only\n",
    "\n",
    "\n"
   ]
  },
  {
   "cell_type": "code",
   "execution_count": 52,
   "id": "c5f49e25",
   "metadata": {},
   "outputs": [
    {
     "name": "stdout",
     "output_type": "stream",
     "text": [
      "{1, 2}\n",
      "{0, 1, 2, 3, 4, 5, 6, 10, 11}\n",
      "{0, 3, 4, 5, 6, 10, 11}\n"
     ]
    }
   ],
   "source": [
    "# 12. Set Operations (Union and Difference)\n",
    "A = {1, 2, 3, 4, 5, 6}  # Define first set\n",
    "B = {0, 1, 2, 10, 11}  # Define second set\n",
    "print(A.intersection(B))  # Output: {1, 2} - Common elements\n",
    "print(A.union(B))  # Output: {0, 1, 2, 3, 4, 5, 6, 10, 11} - All unique elements\n",
    "print((A.union(B)).difference(A.intersection(B)))  # Output: {0, 3, 4, 5, 6, 10, 11} - Elements not common to both sets\n"
   ]
  }
 ],
 "metadata": {
  "kernelspec": {
   "display_name": "Python 3",
   "language": "python",
   "name": "python3"
  },
  "language_info": {
   "codemirror_mode": {
    "name": "ipython",
    "version": 3
   },
   "file_extension": ".py",
   "mimetype": "text/x-python",
   "name": "python",
   "nbconvert_exporter": "python",
   "pygments_lexer": "ipython3",
   "version": "3.12.0"
  }
 },
 "nbformat": 4,
 "nbformat_minor": 5
}
