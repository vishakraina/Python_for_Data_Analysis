{
 "cells": [
  {
   "cell_type": "code",
   "execution_count": 4,
   "id": "d29fb30b",
   "metadata": {},
   "outputs": [
    {
     "name": "stdout",
     "output_type": "stream",
     "text": [
      "5 is a number\n",
      "5 is an odd number\n"
     ]
    }
   ],
   "source": [
    "# 1. Check Even or Odd Number\n",
    "x = 5  # Initialize variable x with a number\n",
    "print(x, \"is a number\")  # Print the number\n",
    "if x % 2 == 0:  # Check if x is divisible by 2\n",
    "    print(x, \"is an even number\")  # Executed if number is even\n",
    "else:\n",
    "    print(x, \"is an odd number\")  # Executed if number is odd"
   ]
  },
  {
   "cell_type": "code",
   "execution_count": null,
   "id": "c7c82827",
   "metadata": {},
   "outputs": [],
   "source": [
    "# 2. Even/Odd with User Input\n",
    "x = int(input(\"Enter your number: \"))  # Take input and convert to integer\n",
    "if x % 2 == 0:  # Check if input number is even\n",
    "    print(x, \"is an even number\")  # Output if even\n",
    "else:\n",
    "    print(x, \"is an odd number\")  # Output if odd\n",
    "# Example Inputs:\n",
    "# Input: 104  -> Output: 104 is an even number\n",
    "# Input: 101  -> Output: 101 is an odd number\n"
   ]
  },
  {
   "cell_type": "code",
   "execution_count": null,
   "id": "35093398",
   "metadata": {},
   "outputs": [],
   "source": [
    "# 3. Age Restriction for Party\n",
    "x = int(input(\"Enter your age: \"))  # Take user's age as input\n",
    "if x < 18 or x > 50:  # Check if age is less than 18 or greater than 50\n",
    "    print(\"Sorry!! You are not allowed in the party\")  # Restrict entry\n",
    "else:\n",
    "    print(\"Welcome to the party\")  # Allow entry\n",
    "# Example Inputs:\n",
    "# Input: 31  -> Output: Welcome to the party\n",
    "# Input: 51  -> Output: Sorry!! You are not allowed in the party"
   ]
  },
  {
   "cell_type": "code",
   "execution_count": null,
   "id": "18896b9c",
   "metadata": {},
   "outputs": [],
   "source": [
    "# 4. Discount Program\n",
    "shopping_amt = int(input(\"Input your billed amount: \"))  # Take billing amount\n",
    "if shopping_amt >= 5000:  # Check for high spenders\n",
    "    print(\"You have won a voucher of 1000$\")  # Top reward\n",
    "elif shopping_amt >= 2500:  # Check for mid-range spenders\n",
    "    print(\"You have won a voucher of 500$\")  # Medium reward\n",
    "else:\n",
    "    print(\"OOPS!! No vouchers\")  # No reward for lower spend\n",
    "# Example Inputs:\n",
    "# Input: 100    -> Output: OOPS!! No vouchers\n",
    "# Input: 10000  -> Output: You have won a voucher of 1000$\n",
    "# Input: 3000   -> Output: You have won a voucher of 500$"
   ]
  },
  {
   "cell_type": "code",
   "execution_count": null,
   "id": "e46a55f4",
   "metadata": {},
   "outputs": [],
   "source": [
    "# 5. Iterate Over a List\n",
    "list_1 = [10, 20, 30, 40, 50]  # Define a list of numbers\n",
    "print(len(list_1))  # Print length of list (5)\n",
    "for i in list_1:  # Loop through each element\n",
    "    print(i)  # Print each element\n",
    "# Output:\n",
    "# 10\n",
    "# 20\n",
    "# 30\n",
    "# 40\n",
    "# 50"
   ]
  },
  {
   "cell_type": "code",
   "execution_count": 3,
   "id": "c89f2667",
   "metadata": {},
   "outputs": [
    {
     "name": "stdout",
     "output_type": "stream",
     "text": [
      "I\n",
      "n\n",
      "d\n",
      "i\n",
      "a\n"
     ]
    }
   ],
   "source": [
    "# 6. Iterate Over a String\n",
    "str_1 = \"India\"  # Define a string\n",
    "for i in str_1:  # Loop through each character\n",
    "    print(i)  # Print each character\n",
    "# Output:\n",
    "# I\n",
    "# n\n",
    "# d\n",
    "# i\n",
    "# a"
   ]
  },
  {
   "cell_type": "code",
   "execution_count": null,
   "id": "55872cb1",
   "metadata": {},
   "outputs": [
    {
     "name": "stdout",
     "output_type": "stream",
     "text": [
      "1\n",
      "2\n",
      "3\n",
      "4\n",
      "5\n"
     ]
    }
   ],
   "source": [
    "# 7. Iterate Over Dictionary (Keys)\n",
    "student_data = {\n",
    "    1: [\"Sam\", 25],\n",
    "    2: [\"Sharma\", 21],\n",
    "    3: [\"Ravi\", 23],\n",
    "    4: [\"Shalu\", 23],\n",
    "    5: [\"Sid\", 22],\n",
    "}  # Define dictionary with student details\n",
    "for i in student_data:  # Iterate over keys\n",
    "    print(i)  # Print each key\n",
    "# Output:\n",
    "# 1\n",
    "# 2\n",
    "# 3\n",
    "# 4\n",
    "# 5"
   ]
  },
  {
   "cell_type": "code",
   "execution_count": null,
   "id": "83520e5f",
   "metadata": {},
   "outputs": [
    {
     "name": "stdout",
     "output_type": "stream",
     "text": [
      "[1, 2, 3]\n",
      "[2, 3, 4]\n",
      "[4, 5, 6]\n",
      "[6, 7, 8]\n"
     ]
    }
   ],
   "source": [
    "# 8. Iterate Over Dictionary (Keys and Values)\n",
    "student_data = {\n",
    "    1: [\"Sam\", 25],\n",
    "    2: [\"Sharma\", 21],\n",
    "    3: [\"Ravi\", 23],\n",
    "    4: [\"Shalu\", 23],\n",
    "    5: [\"Sid\", 22],\n",
    "}  # Define dictionary with student details\n",
    "for i, j in student_data.items():  # Get key-value pairs\n",
    "    print(i)  # Print key\n",
    "    print(j[0])  # Print name from value list\n",
    "# Output:\n",
    "# 1\n",
    "# Sam\n",
    "# 2\n",
    "# Sharma\n",
    "# 3\n",
    "# Ravi\n",
    "# 4\n",
    "# Shalu\n",
    "# 5\n",
    "# Sid"
   ]
  },
  {
   "cell_type": "code",
   "execution_count": null,
   "id": "2f315adf",
   "metadata": {},
   "outputs": [],
   "source": [
    "# 9. Iterate Over Dictionary (Values Only)\n",
    "for i, j in student_data.items():  # Loop through dictionary\n",
    "    print(j[1])  # Print age (2nd element of each value list)\n",
    "# Output:\n",
    "# 25\n",
    "# 21\n",
    "# 23\n",
    "# 23\n",
    "# 22"
   ]
  },
  {
   "cell_type": "code",
   "execution_count": null,
   "id": "60b0d526",
   "metadata": {},
   "outputs": [],
   "source": [
    "# 10. Access Dictionary Values\n",
    "student_data = {\n",
    "    1: [\"Sam\", 25],\n",
    "    2: [\"Sharma\", 21],\n",
    "    3: [\"Ravi\", 23],\n",
    "    4: [\"Shalu\", 23],\n",
    "    5: [\"Sid\", 22],\n",
    "} \n",
    "print(student_data[2][0])  # Access value using key 2 -> Sharma\n",
    "print(student_data.get(2)[0])  # Access value using get() -> Sharma\n",
    "# print(student_data[6][0])  # Raises: KeyError: 6 (key not present)\n",
    "# print(student_data.get(6)[0])  # Raises: TypeError (NoneType subscript)"
   ]
  },
  {
   "cell_type": "code",
   "execution_count": 4,
   "id": "c46e266b",
   "metadata": {},
   "outputs": [
    {
     "name": "stdout",
     "output_type": "stream",
     "text": [
      "2\n",
      "3\n",
      "4\n"
     ]
    }
   ],
   "source": [
    "# 11. Iterate Over Range\n",
    "for i in range(2, 5):  # Loop from 2 to 4\n",
    "    print(i)  # Print each number\n",
    "# Output:\n",
    "# 2\n",
    "# 3\n",
    "# 4"
   ]
  },
  {
   "cell_type": "code",
   "execution_count": 9,
   "id": "958b1866",
   "metadata": {},
   "outputs": [
    {
     "name": "stdout",
     "output_type": "stream",
     "text": [
      "['Automobiles', 'Honda', 'Benz', 'Maruti', 'Kia']\n",
      "['Automobiles', 'Honda', 'Benz', 'Maruti', 'Kia']\n"
     ]
    }
   ],
   "source": [
    "# 12. List Comprehension (Copy List)\n",
    "list_1 = [\"Automobiles\", \"Honda\", \"Benz\", \"Maruti\", \"Kia\"]  # Define list\n",
    "list_2 = []  # Empty list to store copy\n",
    "for i in list_1:  # Iterate over list_1\n",
    "    list_2.append(i)  # Append each element\n",
    "print(list_2)  # Output: ['Automobiles', 'Honda', 'Benz', 'Maruti', 'Kia']\n",
    "# Using comprehension\n",
    "list_2 = [i for i in list_1]  # Create new list using comprehension\n",
    "print(list_2)  # Output: ['Automobiles', 'Honda', 'Benz', 'Maruti', 'Kia']"
   ]
  },
  {
   "cell_type": "code",
   "execution_count": 11,
   "id": "d86999f8",
   "metadata": {},
   "outputs": [
    {
     "name": "stdout",
     "output_type": "stream",
     "text": [
      "[11, 5, 4, 6, 3]\n",
      "[11, 5, 4, 6, 3]\n"
     ]
    }
   ],
   "source": [
    "# 13. List Comprehension (Length of Elements)\n",
    "list_2 = []  # Empty list to store lengths\n",
    "for i in list_1:  # Iterate through elements\n",
    "    list_2.append(len(i))  # Append length of each string\n",
    "print(list_2)  # Output: [11, 5, 4, 6, 3]\n",
    "# Using comprehension\n",
    "list_2 = [len(i) for i in list_1]  # One-line list comprehension\n",
    "print(list_2)  # Output: [11, 5, 4, 6, 3]"
   ]
  },
  {
   "cell_type": "code",
   "execution_count": 15,
   "id": "c5ba5b96",
   "metadata": {},
   "outputs": [
    {
     "name": "stdout",
     "output_type": "stream",
     "text": [
      "{'Automobiles': 11, 'Honda': 5, 'Benz': 4, 'Maruti': 6, 'Kia': 3}\n",
      "{'Automobiles': 11, 'Honda': 5, 'Benz': 4, 'Maruti': 6, 'Kia': 3}\n"
     ]
    }
   ],
   "source": [
    "# 14. Dictionary Comprehension\n",
    "d = {}  # Empty dictionary\n",
    "for i in list_1:  # Loop through list elements\n",
    "    d[i] = len(i)  # Store element as key and its length as value\n",
    "print(d)  # Output: {'Automobiles': 11, 'Honda': 5, 'Benz': 4, 'Maruti': 6, 'Kia': 3}\n",
    "# Using comprehension\n",
    "d = {i: len(i) for i in list_1}  # One-line dictionary comprehension\n",
    "print(d)  # Output: {'Automobiles': 11, 'Honda': 5, 'Benz': 4, 'Maruti': 6, 'Kia': 3}"
   ]
  },
  {
   "cell_type": "code",
   "execution_count": 16,
   "id": "5d3cfe95",
   "metadata": {},
   "outputs": [
    {
     "name": "stdout",
     "output_type": "stream",
     "text": [
      "1\n"
     ]
    }
   ],
   "source": [
    "# 15. Modulo Operation\n",
    "print(101 % 2)  # Output: 1 (remainder when dividing 101 by 2 → odd number)"
   ]
  }
 ],
 "metadata": {
  "kernelspec": {
   "display_name": "Python 3",
   "language": "python",
   "name": "python3"
  },
  "language_info": {
   "codemirror_mode": {
    "name": "ipython",
    "version": 3
   },
   "file_extension": ".py",
   "mimetype": "text/x-python",
   "name": "python",
   "nbconvert_exporter": "python",
   "pygments_lexer": "ipython3",
   "version": "3.12.0"
  }
 },
 "nbformat": 4,
 "nbformat_minor": 5
}
