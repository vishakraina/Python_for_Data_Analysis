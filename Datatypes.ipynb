{
 "cells": [
  {
   "cell_type": "code",
   "execution_count": 2,
   "id": "e3e5d736",
   "metadata": {},
   "outputs": [
    {
     "name": "stdout",
     "output_type": "stream",
     "text": [
      "12\n"
     ]
    }
   ],
   "source": [
    "# 1. String Variable and Printing\n",
    "\n",
    "name = 12          # Assign the string value 'mike' to variable 'name'\n",
    "print(name)            # Print the value of 'name' → Output: mike\n"
   ]
  },
  {
   "cell_type": "code",
   "execution_count": 3,
   "id": "a8c4a6ad",
   "metadata": {},
   "outputs": [
    {
     "data": {
      "text/plain": [
       "int"
      ]
     },
     "execution_count": 3,
     "metadata": {},
     "output_type": "execute_result"
    }
   ],
   "source": [
    "# 2. Checking Variable Type (String)\n",
    "\n",
    "type(name)             # Check the data type of variable 'name' → Output: <class 'str'>\n"
   ]
  },
  {
   "cell_type": "code",
   "execution_count": null,
   "id": "3778d212",
   "metadata": {},
   "outputs": [],
   "source": [
    "# 3. Input and Printing (String)\n",
    "\n",
    "name = input('Enter your name: ')   # Take input from the user and store it in variable 'name'\n",
    "                                    # Example Input: Vishak Raina\n",
    "\n",
    "print(name)                         # Print the entered name → Output: Vishak Raina\n"
   ]
  },
  {
   "cell_type": "code",
   "execution_count": null,
   "id": "e02c0325",
   "metadata": {},
   "outputs": [],
   "source": [
    "# 4. Displaying Input Variable\n",
    "\n",
    "name    # Display the value stored in variable 'name' (works in interactive environments like Jupyter Notebook)\n",
    "         # Output: 'Vishak Raina'\n"
   ]
  },
  {
   "cell_type": "code",
   "execution_count": null,
   "id": "a663fcde",
   "metadata": {},
   "outputs": [],
   "source": [
    "# 5. Checking Variable Type (Input String)\n",
    "\n",
    "type(name)   # Check the data type of variable 'name'\n",
    "              # Since input() always returns data as a string → Output: <class 'str'>\n"
   ]
  },
  {
   "cell_type": "code",
   "execution_count": 4,
   "id": "c8012a01",
   "metadata": {},
   "outputs": [
    {
     "data": {
      "text/plain": [
       "int"
      ]
     },
     "execution_count": 4,
     "metadata": {},
     "output_type": "execute_result"
    }
   ],
   "source": [
    "# 6. Integer Variable Type Check\n",
    "\n",
    "a = 10           # Assign the integer value 10 to variable 'a'\n",
    "type(a)          # Check the data type of 'a' → Output: <class 'int'>\n"
   ]
  },
  {
   "cell_type": "code",
   "execution_count": null,
   "id": "5c8093ae",
   "metadata": {},
   "outputs": [],
   "source": [
    "# 7. Float Variable Type Check\n",
    "\n",
    "a = 10.5         # Assign the float value 10.5 to variable 'a'\n",
    "type(a)          # Check the data type of 'a' → Output: <class 'float'>\n"
   ]
  },
  {
   "cell_type": "code",
   "execution_count": 1,
   "id": "f2d19677",
   "metadata": {},
   "outputs": [
    {
     "data": {
      "text/plain": [
       "str"
      ]
     },
     "execution_count": 1,
     "metadata": {},
     "output_type": "execute_result"
    }
   ],
   "source": [
    "# 8. String Variable (Numeric String) Type Check\n",
    "\n",
    "a = '10'         # Assign a numeric string '10' to variable 'a'\n",
    "type(a)          # Check the data type of 'a' → Output: <class 'str'>"
   ]
  },
  {
   "cell_type": "code",
   "execution_count": null,
   "id": "b3d31f35",
   "metadata": {},
   "outputs": [],
   "source": [
    "# 9. Boolean Variable Type Check\n",
    "\n",
    "a = True        # Assign the boolean value True to variable 'a'\n",
    "type(a)         # Check the data type of 'a' → Output: <class 'bool'>\n"
   ]
  },
  {
   "cell_type": "code",
   "execution_count": null,
   "id": "52b18614",
   "metadata": {},
   "outputs": [],
   "source": [
    "# 10. List Variable Type Check\n",
    "\n",
    "a = [10, 15, 20, 25]    # Assign a list of integers to variable 'a'\n",
    "type(a)                  # Check the data type of 'a' → Output: <class 'list'>\n"
   ]
  },
  {
   "cell_type": "code",
   "execution_count": null,
   "id": "bef46b99",
   "metadata": {},
   "outputs": [],
   "source": [
    "# 11. Tuple Variable Type Check\n",
    "\n",
    "a = (10, 20, 30, 40)    # Assign a tuple of integers to variable 'a'\n",
    "type(a)                  # Check the data type of 'a' → Output: <class 'tuple'>\n"
   ]
  },
  {
   "cell_type": "code",
   "execution_count": null,
   "id": "dc2d4c83",
   "metadata": {},
   "outputs": [],
   "source": [
    "# 12. Checking Variable Type (String)\n",
    "\n",
    "type(name)   # Check the data type of variable 'name' → Output: <class 'str'>\n"
   ]
  },
  {
   "cell_type": "code",
   "execution_count": null,
   "id": "3403b9e1",
   "metadata": {},
   "outputs": [],
   "source": [
    "# 13. Boolean vs String Type Check\n",
    "\n",
    "a = True       # Assign the boolean value True to variable 'a'\n",
    "b = 'True'     # Assign the string value 'True' to variable 'b'\n",
    "\n",
    "print(type(a))  # Check and print the data type of 'a' → Output: <class 'bool'>\n",
    "print(type(b))  # Check and print the data type of 'b' → Output: <class 'str'>\n"
   ]
  },
  {
   "cell_type": "code",
   "execution_count": null,
   "id": "4bc7b3eb",
   "metadata": {},
   "outputs": [],
   "source": [
    "# 14. Type Casting (Integer to String)\n",
    "a = 5                  # Assign integer value 5 to variable 'a'\n",
    "type(a)                # Check data type of 'a' → Output: <class 'int'>\n",
    "b = str(a)             # Convert integer 'a' to string → '5'\n",
    "b                      # Display value of 'b' → Output: '5'"
   ]
  },
  {
   "cell_type": "code",
   "execution_count": 5,
   "id": "39e364ca",
   "metadata": {},
   "outputs": [
    {
     "name": "stdout",
     "output_type": "stream",
     "text": [
      "91.99\n",
      "<class 'float'>\n"
     ]
    },
    {
     "data": {
      "text/plain": [
       "91"
      ]
     },
     "execution_count": 5,
     "metadata": {},
     "output_type": "execute_result"
    }
   ],
   "source": [
    "# 15. Type Casting (Float to Integer)\n",
    "acc = 91.99            # Assign float value 91.99 to variable 'acc'\n",
    "print(acc)             # Print value of 'acc' → Output: 91.99\n",
    "print(type(acc))       # Print data type of 'acc' → Output: <class 'float'>\n",
    "int(acc)               # Convert float to integer → Output: 91"
   ]
  },
  {
   "cell_type": "code",
   "execution_count": null,
   "id": "b1de63f5",
   "metadata": {},
   "outputs": [],
   "source": [
    "# 16. Type Casting (Integer to Float)\n",
    "my_age = 33            # Assign integer 33 to 'my_age'\n",
    "type(my_age)           # Check data type → Output: <class 'int'>\n",
    "float(my_age)          # Convert integer to float → Output: 33.0"
   ]
  },
  {
   "cell_type": "code",
   "execution_count": null,
   "id": "d7b2f984",
   "metadata": {},
   "outputs": [],
   "source": [
    "# 17. Type Casting (Integer to Float)\n",
    "var = 2\n",
    "type(var)              # Output: <class 'int'>\n",
    "var1 = float(var)      # Convert integer to float → 2.0\n",
    "type(var1)             # Output: <class 'float'>\n",
    "var1                   # Output: 2.0"
   ]
  },
  {
   "cell_type": "code",
   "execution_count": null,
   "id": "b76e99c2",
   "metadata": {},
   "outputs": [],
   "source": [
    "# 18. Type Casting (Float to Integer)\n",
    "var = 2.9\n",
    "var_int = int(var)     # Convert float to integer → truncates decimal → 2\n",
    "print(var_int)         # Output: 2"
   ]
  },
  {
   "cell_type": "code",
   "execution_count": null,
   "id": "d952dffc",
   "metadata": {},
   "outputs": [],
   "source": [
    "# 19. Type Casting (Float to Integer)\n",
    "int(var)               # Convert float 2.9 to integer → Output: 2"
   ]
  },
  {
   "cell_type": "code",
   "execution_count": 6,
   "id": "a9aeb393",
   "metadata": {},
   "outputs": [
    {
     "data": {
      "text/plain": [
       "str"
      ]
     },
     "execution_count": 6,
     "metadata": {},
     "output_type": "execute_result"
    }
   ],
   "source": [
    "# 20. Type Casting (Integer to String)\n",
    "var = 2\n",
    "new_var = str(var)     # Convert integer to string → '2'\n",
    "new_var                # Output: '2'\n",
    "type(new_var)          # Output: <class 'str'>"
   ]
  },
  {
   "cell_type": "code",
   "execution_count": 7,
   "id": "3e2fb7e3",
   "metadata": {},
   "outputs": [
    {
     "data": {
      "text/plain": [
       "19"
      ]
     },
     "execution_count": 7,
     "metadata": {},
     "output_type": "execute_result"
    }
   ],
   "source": [
    "# 21. Type Casting (String to Integer)\n",
    "name = \"19\"\n",
    "int(name)              # Convert numeric string to integer → 19"
   ]
  },
  {
   "cell_type": "code",
   "execution_count": 8,
   "id": "c1801a52",
   "metadata": {},
   "outputs": [
    {
     "data": {
      "text/plain": [
       "2"
      ]
     },
     "execution_count": 8,
     "metadata": {},
     "output_type": "execute_result"
    }
   ],
   "source": [
    "# 22. Type Casting (String to Integer)\n",
    "int(\"2\")               # Convert numeric string \"2\" to integer → 2"
   ]
  },
  {
   "cell_type": "code",
   "execution_count": null,
   "id": "565c3f95",
   "metadata": {},
   "outputs": [],
   "source": [
    "# 23. Type Casting (String to Float to Integer)\n",
    "var_new = \"2.5\"\n",
    "type(var_new)          # Output: <class 'str'>\n",
    "int(float(var_new))    # Convert string to float then to int → Output: 2"
   ]
  },
  {
   "cell_type": "code",
   "execution_count": 11,
   "id": "3bccf34b",
   "metadata": {},
   "outputs": [
    {
     "data": {
      "text/plain": [
       "2"
      ]
     },
     "execution_count": 11,
     "metadata": {},
     "output_type": "execute_result"
    }
   ],
   "source": [
    "# 24. Type Casting (String to Float)\n",
    "var_new = \"2.5\"\n",
    "var_new_fl = float(var_new)  # Convert string to float → 2.5\n",
    "int(var_new_fl)              # Convert float to integer → 2"
   ]
  },
  {
   "cell_type": "code",
   "execution_count": null,
   "id": "ac909f4c",
   "metadata": {},
   "outputs": [],
   "source": [
    "# 25. String Variable Assignment\n",
    "string_var = 'ABCDEFGH'   # Assign string to variable\n",
    "string_var                 # Output: 'ABCDEFGH'"
   ]
  },
  {
   "cell_type": "code",
   "execution_count": null,
   "id": "7c5f8e0e",
   "metadata": {},
   "outputs": [],
   "source": [
    "# 26. String Indexing Explanation\n",
    "string_var = 'HELLO'\n",
    "# Index mapping: [H:0/-5, E:1/-4, L:2/-3, L:3/-2, O:4/-1]"
   ]
  },
  {
   "cell_type": "code",
   "execution_count": 12,
   "id": "37ce20da",
   "metadata": {},
   "outputs": [],
   "source": [
    "# 27. String Reassignment\n",
    "string_var = 'YELLO'      # Reassign string variable"
   ]
  },
  {
   "cell_type": "code",
   "execution_count": null,
   "id": "bf0c95c3",
   "metadata": {},
   "outputs": [],
   "source": [
    "# 28. String Indexing\n",
    "string_var[0]             # Access first character → Output: 'Y'"
   ]
  },
  {
   "cell_type": "code",
   "execution_count": 17,
   "id": "fd4296cd",
   "metadata": {},
   "outputs": [],
   "source": [
    "# 29. Invalid String Item Assignment\n",
    "# string_var[0] = 'H'     # ❌ Raises TypeError: 'str' object does not support item assignment"
   ]
  },
  {
   "cell_type": "code",
   "execution_count": 18,
   "id": "afe63620",
   "metadata": {},
   "outputs": [
    {
     "data": {
      "text/plain": [
       "'Y'"
      ]
     },
     "execution_count": 18,
     "metadata": {},
     "output_type": "execute_result"
    }
   ],
   "source": [
    "# 30. String Negative Indexing\n",
    "string_var[-5]            # Access first character using negative index → Output: 'Y'"
   ]
  },
  {
   "cell_type": "code",
   "execution_count": null,
   "id": "f7ca3eb0",
   "metadata": {},
   "outputs": [],
   "source": [
    "# 31. Invalid String Item Assignment\n",
    "# string_var[0] = 'A'     # ❌ Raises TypeError: 'str' object does not support item assignment"
   ]
  },
  {
   "cell_type": "code",
   "execution_count": null,
   "id": "fa6f38f9",
   "metadata": {},
   "outputs": [],
   "source": [
    "# 32. String Printing and Indexing\n",
    "print(string_var)         # Output: YELLO\n",
    "print(string_var[2])      # Output: L"
   ]
  },
  {
   "cell_type": "code",
   "execution_count": 20,
   "id": "dbd51058",
   "metadata": {},
   "outputs": [],
   "source": [
    "# 33. Invalid String Item Assignment\n",
    "# string_var[2] = 't'     # ❌ Raises TypeError: 'str' object does not support item assignment"
   ]
  },
  {
   "cell_type": "code",
   "execution_count": null,
   "id": "63af3a5e",
   "metadata": {},
   "outputs": [],
   "source": [
    "# 34. String Reassignment\n",
    "string_var = 'ABtDEFGH'   # Reassign new string value\n",
    "string_var                 # Output: 'ABtDEFGH'\n",
    "type(string_var)           # Output: <class 'str'>"
   ]
  },
  {
   "cell_type": "code",
   "execution_count": null,
   "id": "1904e9c1",
   "metadata": {},
   "outputs": [],
   "source": [
    "# 35. Type Casting (Float to Integer to Float)\n",
    "x = 3.5\n",
    "float(int(x))             # Convert float to int then back to float → Output: 3.0"
   ]
  },
  {
   "cell_type": "code",
   "execution_count": null,
   "id": "7fc2358f",
   "metadata": {},
   "outputs": [],
   "source": [
    "# 36. Type Casting (Float to Integer to Float)\n",
    "x = 3.5\n",
    "int(x)                     # Convert float to integer → 3\n",
    "float(int(x))              # Convert integer back to float → Output: 3.0"
   ]
  },
  {
   "cell_type": "code",
   "execution_count": null,
   "id": "12823389",
   "metadata": {},
   "outputs": [],
   "source": [
    "# 37. Variable Assignment (Integer)\n",
    "vishak = 5               # Assign integer 5 to variable"
   ]
  },
  {
   "cell_type": "code",
   "execution_count": null,
   "id": "6da6db9f",
   "metadata": {},
   "outputs": [],
   "source": [
    "# 38. String Variable and Printing\n",
    "name = 'Saurav'\n",
    "print(name)                # Output: Saurav"
   ]
  },
  {
   "cell_type": "code",
   "execution_count": null,
   "id": "08e00ac7",
   "metadata": {},
   "outputs": [],
   "source": [
    "# 39. String Variable Assignment\n",
    "str1 = 'HELLO'             # Assign string to variable"
   ]
  },
  {
   "cell_type": "code",
   "execution_count": 21,
   "id": "1f90ac83",
   "metadata": {},
   "outputs": [],
   "source": [
    "# 40. Invalid String Item Assignment\n",
    "# str1[0] = 'Y'            # ❌ Raises TypeError: 'str' object does not support item assignment"
   ]
  },
  {
   "cell_type": "code",
   "execution_count": null,
   "id": "2dc93b13",
   "metadata": {},
   "outputs": [],
   "source": [
    "# 41. String Reassignment\n",
    "str1 = 'YELLO'\n",
    "str1                        # Output: 'YELLO'"
   ]
  },
  {
   "cell_type": "code",
   "execution_count": null,
   "id": "c64c219b",
   "metadata": {},
   "outputs": [],
   "source": [
    "# 42. Type Casting (String to Float to Integer)\n",
    "a = \"5.5\"\n",
    "type(a)                     # Output: <class 'str'>\n",
    "# int(a)                    # ❌ Raises ValueError: invalid literal for int() with base 10: '5.5'\n",
    "a                           # Output: '5.5'\n",
    "b = int(float(a))           # Convert string to float then to int → 5\n",
    "type(b)                     # Output: <class 'int'>"
   ]
  },
  {
   "cell_type": "code",
   "execution_count": null,
   "id": "058bb1b7",
   "metadata": {},
   "outputs": [],
   "source": [
    "# 43. Type Casting (String to Integer)\n",
    "a = \"5\"\n",
    "type(a)                     # Output: <class 'str'>\n",
    "b = int(a)                  # Convert string to integer → 5\n",
    "b                           # Output: 5"
   ]
  }
 ],
 "metadata": {
  "kernelspec": {
   "display_name": "Python 3",
   "language": "python",
   "name": "python3"
  },
  "language_info": {
   "codemirror_mode": {
    "name": "ipython",
    "version": 3
   },
   "file_extension": ".py",
   "mimetype": "text/x-python",
   "name": "python",
   "nbconvert_exporter": "python",
   "pygments_lexer": "ipython3",
   "version": "3.12.0"
  }
 },
 "nbformat": 4,
 "nbformat_minor": 5
}
