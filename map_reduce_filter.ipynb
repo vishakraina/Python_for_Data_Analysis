{
 "cells": [
  {
   "cell_type": "code",
   "execution_count": null,
   "id": "b10de1af",
   "metadata": {},
   "outputs": [],
   "source": [
    "# 1. Area of a Circle (Traditional for Loop)\n",
    "import math  # Import math module to use the value of pi\n",
    "\n",
    "def area(r):  # Define a function to calculate the area of a circle\n",
    "    return math.pi * (r ** 2)  # Formula for area = π * r²\n",
    "\n",
    "radii = [1, 2, 3, 4, 5]  # List of circle radii\n",
    "areas = []  # Empty list to store computed areas\n",
    "\n",
    "for r in radii:  # Iterate through each radius\n",
    "    a = area(r)  # Calculate area for current radius\n",
    "    areas.append(a)  # Append calculated area to list\n",
    "\n",
    "print(areas)  # Output: [3.141592653589793, 12.566370614359172, 28.274333882308138, 50.26548245743669, 78.53981633974483]\n"
   ]
  },
  {
   "cell_type": "code",
   "execution_count": null,
   "id": "ff28a6ba",
   "metadata": {},
   "outputs": [
    {
     "name": "stdout",
     "output_type": "stream",
     "text": [
      "[3.141592653589793, 12.566370614359172, 28.274333882308138, 50.26548245743669, 78.53981633974483]\n"
     ]
    }
   ],
   "source": [
    "# 2. Area of a Circle (Map Function)\n",
    "print(list(map(area, radii)))  \n",
    "# map() applies the area() function to each element of radii\n",
    "# Output: [3.141592653589793, 12.566370614359172, 28.274333882308138, 50.26548245743669, 78.53981633974483]\n"
   ]
  },
  {
   "cell_type": "code",
   "execution_count": null,
   "id": "74704e30",
   "metadata": {},
   "outputs": [],
   "source": [
    "# 3. Celsius to Fahrenheit Conversion (Map with Lambda)\n",
    "temps = [(\"Mumbai\", 35), (\"Berlin\", 12), (\"Tokyo\", 25), (\"Hong Kong\", 31), (\"Sydney\", 30)]  \n",
    "# List of tuples containing city name and temperature in Celsius\n",
    "\n",
    "print(type(temps))  # Check type → Output: <class 'list'>\n",
    "print(len(temps))   # Check length → Output: 5\n",
    "\n",
    "cel_to_f = lambda data: (data[0], (9/5) * data[1] + 32)  \n",
    "# Lambda function to convert Celsius to Fahrenheit\n",
    "\n",
    "print(list(map(cel_to_f, temps)))  \n",
    "# Apply conversion using map()\n",
    "# Output: [('Mumbai', 95.0), ('Berlin', 53.6), ('Tokyo', 77.0), ('Hong Kong', 87.8), ('Sydney', 86.0)]\n",
    "\n"
   ]
  },
  {
   "cell_type": "code",
   "execution_count": 12,
   "id": "72de2a48",
   "metadata": {},
   "outputs": [
    {
     "name": "stdout",
     "output_type": "stream",
     "text": [
      "5.1\n",
      "[9, 12, 9]\n"
     ]
    }
   ],
   "source": [
    "# 4. Filter Values Above Average\n",
    "import statistics  # Import statistics module for mean calculation\n",
    "\n",
    "data = [1, 2, 3, 4, 5, 9, 12, 4, 2, 9]  # List of numbers\n",
    "avg = statistics.mean(data)  # Calculate average\n",
    "print(avg)  # Output: 5.1\n",
    "\n",
    "print(list(filter(lambda x: x > avg, data)))  \n",
    "# Use filter() to keep numbers greater than average\n",
    "# Output: [9, 12, 9]"
   ]
  },
  {
   "cell_type": "code",
   "execution_count": 13,
   "id": "6ab44f3e",
   "metadata": {},
   "outputs": [
    {
     "name": "stdout",
     "output_type": "stream",
     "text": [
      "[12.566370614359172, 28.274333882308138, 50.26548245743669, 78.53981633974483]\n"
     ]
    }
   ],
   "source": [
    "# 5. Filter Areas Greater Than 10\n",
    "print(list(filter(lambda x: x > 10, areas)))  \n",
    "# Filter out circle areas greater than 10\n",
    "# Output: [12.566370614359172, 28.274333882308138, 50.26548245743669, 78.53981633974483]"
   ]
  },
  {
   "cell_type": "code",
   "execution_count": 17,
   "id": "5077958c",
   "metadata": {},
   "outputs": [
    {
     "name": "stdout",
     "output_type": "stream",
     "text": [
      "['Vishak', 'Neha', 'Namrata']\n",
      "[12, 19, 21, 11, 5, 9]\n"
     ]
    }
   ],
   "source": [
    "# 6. Remove Null/NaN Values (Filter)\n",
    "name = [\"Vishak\", \"Neha\", 0, 0.0, \"\", \"Namrata\"]  # List with empty and zero values\n",
    "print(list(filter(None, name)))  \n",
    "# Filter removes values that are False, 0, 0.0, or empty\n",
    "# Output: ['Satyajit', 'Neha', 'Namrata']\n",
    "\n",
    "number = [12, 19, 21, 0, 0.0, 0, \"\", 11, 5, 9]  # List containing numbers and falsy values\n",
    "print(list(filter(None, number)))  \n",
    "# Output: [12, 19, 21, 11, 5, 9]"
   ]
  },
  {
   "cell_type": "code",
   "execution_count": 18,
   "id": "d0db9f43",
   "metadata": {},
   "outputs": [
    {
     "name": "stdout",
     "output_type": "stream",
     "text": [
      "120\n"
     ]
    }
   ],
   "source": [
    "# 7. Multiply All Items (Reduce)\n",
    "from functools import reduce  # Import reduce from functools\n",
    "\n",
    "data = [1, 2, 3, 4, 5]  # List of numbers\n",
    "multiplier = lambda x, y: x * y  # Lambda function to multiply two numbers\n",
    "\n",
    "print(reduce(multiplier, data))  \n",
    "# reduce() multiplies all elements sequentially → 1*2*3*4*5 = 120\n",
    "# Output: 120"
   ]
  },
  {
   "cell_type": "code",
   "execution_count": null,
   "id": "96c75af8",
   "metadata": {},
   "outputs": [
    {
     "name": "stdout",
     "output_type": "stream",
     "text": [
      "15\n"
     ]
    }
   ],
   "source": [
    "# 8. Multiply All Items (Traditional for Loop)\n",
    "prev = data[0]  # Initialize with first element of list\n",
    "for i in data:  # Loop through all elements\n",
    "    i = i * prev  # Multiply current value with previous\n",
    "    prev = i  # Update prev to new value\n",
    "\n",
    "print(i)  # Output: 120 (final multiplication result)"
   ]
  },
  {
   "cell_type": "code",
   "execution_count": 30,
   "id": "880b6bbe",
   "metadata": {},
   "outputs": [
    {
     "name": "stdout",
     "output_type": "stream",
     "text": [
      "120\n",
      "15\n"
     ]
    }
   ],
   "source": [
    "# 9. Sum All Items (Reduce)\n",
    "data = [1, 2, 3, 4, 5]  # List of numbers\n",
    "sumop = lambda x, y: x + y# 7. Multiply All Items (Reduce)\n",
    "from functools import reduce  # Import reduce from functools\n",
    "\n",
    "data = [1, 2, 3, 4, 5]  # List of numbers\n",
    "multiplier = lambda x, y: x * y  # Lambda function to multiply two numbers\n",
    "\n",
    "print(reduce(multiplier, data))  \n",
    "# reduce() multiplies all elements sequentially → 1*2*3*4*5 = 120\n",
    "# Output: 120 + y  # Lambda function for addition\n",
    "\n",
    "print(reduce(sumop, data))  \n",
    "# reduce() adds all elements sequentially → 1+2+3+4+5 = 15\n",
    "# Output: 15"
   ]
  }
 ],
 "metadata": {
  "kernelspec": {
   "display_name": "Python 3",
   "language": "python",
   "name": "python3"
  },
  "language_info": {
   "codemirror_mode": {
    "name": "ipython",
    "version": 3
   },
   "file_extension": ".py",
   "mimetype": "text/x-python",
   "name": "python",
   "nbconvert_exporter": "python",
   "pygments_lexer": "ipython3",
   "version": "3.12.0"
  }
 },
 "nbformat": 4,
 "nbformat_minor": 5
}
