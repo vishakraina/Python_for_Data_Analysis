{
 "cells": [
  {
   "cell_type": "code",
   "execution_count": null,
   "id": "e1aa67c3",
   "metadata": {},
   "outputs": [],
   "source": [
    "# 1. Integer Type Check\n",
    "a = 10                  # Assign integer 10 to variable 'a'\n",
    "print(type(a))          # Check data type → Output: <class 'int'>"
   ]
  },
  {
   "cell_type": "code",
   "execution_count": 3,
   "id": "d89c8d92",
   "metadata": {},
   "outputs": [
    {
     "name": "stdout",
     "output_type": "stream",
     "text": [
      "<class 'list'>\n"
     ]
    }
   ],
   "source": [
    "# 2. List Assignment and Type Check\n",
    "a = [10, 20, 30]        # Assign a list of integers\n",
    "print(type(a))          # Check data type → Output: <class 'list'>"
   ]
  },
  {
   "cell_type": "code",
   "execution_count": 5,
   "id": "6ba85087",
   "metadata": {},
   "outputs": [
    {
     "data": {
      "text/plain": [
       "3"
      ]
     },
     "execution_count": 5,
     "metadata": {},
     "output_type": "execute_result"
    }
   ],
   "source": [
    "# 3. List Length\n",
    "len(a)                  # Length of list 'a' → Output: 3"
   ]
  },
  {
   "cell_type": "code",
   "execution_count": null,
   "id": "4319c680",
   "metadata": {},
   "outputs": [
    {
     "data": {
      "text/plain": [
       "3"
      ]
     },
     "execution_count": 4,
     "metadata": {},
     "output_type": "execute_result"
    }
   ],
   "source": [
    "# 4. Mixed List\n",
    "cust_info = [\"Satyajit\", 33, \"Hong Kong\", 12000, 14000, \"1GB\", 5.5]  # Mixed data types\n",
    "cust_info               # Display the list\n",
    "print(cust_info)        # Print the list → Output: ['Satyajit', 33, 'Hong Kong', 12000, 14000, '1GB', 5.5]\n",
    "print(type(cust_info))  # Check data type → Output: <class 'list'>"
   ]
  },
  {
   "cell_type": "code",
   "execution_count": 7,
   "id": "8fbb95eb",
   "metadata": {},
   "outputs": [
    {
     "data": {
      "text/plain": [
       "tuple"
      ]
     },
     "execution_count": 7,
     "metadata": {},
     "output_type": "execute_result"
    }
   ],
   "source": [
    "# 5. Tuple Assignment\n",
    "cust_info_new = (\"Satyajit\", 31, \"Hong Kong\", 12000, 14000, \"1GB\")  # Assign tuple\n",
    "type(cust_info_new)     # Output: <class 'tuple'>"
   ]
  },
  {
   "cell_type": "code",
   "execution_count": 10,
   "id": "ba8e35f7",
   "metadata": {},
   "outputs": [
    {
     "data": {
      "text/plain": [
       "tuple"
      ]
     },
     "execution_count": 10,
     "metadata": {},
     "output_type": "execute_result"
    }
   ],
   "source": [
    "# 6. Tuple without Parentheses\n",
    "cust_info_tup_new = \"Satyajit\", 31, \"Hong Kong\", 12000, 14000, \"1GB\"  # Parentheses optional\n",
    "type(cust_info_tup_new)  # Output: <class 'tuple'>"
   ]
  },
  {
   "cell_type": "code",
   "execution_count": 12,
   "id": "5122d9c0",
   "metadata": {},
   "outputs": [
    {
     "data": {
      "text/plain": [
       "tuple"
      ]
     },
     "execution_count": 12,
     "metadata": {},
     "output_type": "execute_result"
    }
   ],
   "source": [
    "# 7. Single-Element Tuple\n",
    "abc = \"Satyajit\",       # Comma makes it a tuple\n",
    "type(abc)               # Output: <class 'tuple'>\n",
    "abc_new = \"Satyajit\",   # Another single-element tuple\n",
    "type(abc_new)           # Output: <class 'tuple'>"
   ]
  },
  {
   "cell_type": "code",
   "execution_count": 13,
   "id": "9dc4df5d",
   "metadata": {},
   "outputs": [
    {
     "name": "stdout",
     "output_type": "stream",
     "text": [
      "3\n",
      "<class 'list'>\n"
     ]
    }
   ],
   "source": [
    "# 8. Mixed List\n",
    "list1 = [\"India\", 5, \"Delhi\"]  # Mixed data types\n",
    "list1                   # Output: ['India', 5, 'Delhi']\n",
    "type(list1)             # Output: <class 'list'>\n",
    "print(len(list1))       # Output: 3\n",
    "print(type(list1))      # Output: <class 'list'>"
   ]
  },
  {
   "cell_type": "code",
   "execution_count": 21,
   "id": "5a67e122",
   "metadata": {},
   "outputs": [
    {
     "data": {
      "text/plain": [
       "'Rajkot'"
      ]
     },
     "execution_count": 21,
     "metadata": {},
     "output_type": "execute_result"
    }
   ],
   "source": [
    "# 9. Nested List\n",
    "list2 = [\"India\", \"Delhi\", 5, 10, [\"Rajkot\", \"Chennai\"]]  # List within a list\n",
    "len(list2)             # Output: 5\n",
    "list2[-3]              # Output: 5\n",
    "list2[2]               # Output: 5\n",
    "type(list2[4])         # Output: <class 'list'>\n",
    "list2[-1][0]           # Output: 'Rajkot'\n",
    "list2[4]               # Output: ['Rajkot', 'Chennai']\n",
    "list2[4][0]            # Output: 'Rajkot'"
   ]
  },
  {
   "cell_type": "code",
   "execution_count": 22,
   "id": "e0021144",
   "metadata": {},
   "outputs": [
    {
     "data": {
      "text/plain": [
       "'Raj'"
      ]
     },
     "execution_count": 22,
     "metadata": {},
     "output_type": "execute_result"
    }
   ],
   "source": [
    "# 10. String Slicing within Nested List\n",
    "a = 'Rajkot'            # Assign string\n",
    "a[0:3]                  # Slice first 3 characters → Output: 'Raj'\n",
    "list2[-1][0][-6:-3]     # Slice string within nested list → Output: 'Raj'"
   ]
  },
  {
   "cell_type": "code",
   "execution_count": 27,
   "id": "7fafa3e6",
   "metadata": {},
   "outputs": [
    {
     "name": "stdout",
     "output_type": "stream",
     "text": [
      "['India', 'Delhi', 5, 10, ['Bangalore', 'Chennai']]\n"
     ]
    }
   ],
   "source": [
    "# 11. Modifying Nested List\n",
    "list2 = [\"India\", \"Delhi\", 5, 10, [\"Rajkot\", \"Chennai\"]]\n",
    "list2[4][0] = 'Bangalore'  # Change first element of nested list\n",
    "print(list2)                # Output: ['India', 'Delhi', 5, 10, ['Bangalore', 'Chennai']]"
   ]
  },
  {
   "cell_type": "code",
   "execution_count": 32,
   "id": "b039d024",
   "metadata": {},
   "outputs": [
    {
     "name": "stdout",
     "output_type": "stream",
     "text": [
      "['Rajkot', 'Chennai']\n",
      "<class 'list'>\n"
     ]
    },
    {
     "data": {
      "text/plain": [
       "'Chennai'"
      ]
     },
     "execution_count": 32,
     "metadata": {},
     "output_type": "execute_result"
    }
   ],
   "source": [
    "# 12. Nested List Access\n",
    "list2 = [\"India\", \"Delhi\", 5, 10, [\"Rajkot\", \"Chennai\"]]\n",
    "list2[0]                  # Access first element → 'India'\n",
    "list2[2]                  # Access 3rd element → 5\n",
    "list2[-3]                 # Access third from end → 5\n",
    "list2[4]                  # Access nested list → ['Rajkot', 'Chennai']\n",
    "a = list2[4]              # Assign nested list to variable 'a'\n",
    "print(a)                  # Output: ['Rajkot', 'Chennai']\n",
    "print(type(a))            # Output: <class 'list'>\n",
    "a[0]                      # Access first element of nested list → 'Rajkot'\n",
    "list2[4][0]               # Same as above → 'Rajkot'\n",
    "list2[4][-2]              # Negative indexing → 'Rajkot'\n",
    "list2[-1][0]              # Negative index access → 'Rajkot'\n",
    "list2[-1][-2]             # Negative index → 'Rajkot'\n",
    "list2[4][1]               # Access second element → 'Chennai'\n",
    "list2[-1][1]              # Access second element using negative index → 'Chennai'"
   ]
  },
  {
   "cell_type": "code",
   "execution_count": 33,
   "id": "b5f390cf",
   "metadata": {},
   "outputs": [
    {
     "data": {
      "text/plain": [
       "['Japan', 'Tokyo', 5, 10, ['Rajkot', 'Chennai']]"
      ]
     },
     "execution_count": 33,
     "metadata": {},
     "output_type": "execute_result"
    }
   ],
   "source": [
    "# 13. List Modification\n",
    "list2 = [\"India\", \"Delhi\", 5, 10, [\"Rajkot\", \"Chennai\"]]\n",
    "list2[0] = 'Japan'        # Change first element\n",
    "list2[1] = 'Tokyo'        # Change second element\n",
    "list2                      # Output: ['Japan', 'Tokyo', 5, 10, ['Rajkot', 'Chennai']]"
   ]
  },
  {
   "cell_type": "code",
   "execution_count": null,
   "id": "19d2a0a5",
   "metadata": {},
   "outputs": [],
   "source": [
    "# 14. Tuple with Nested List\n",
    "tuple2 = ('India', 'Delhi', 5, 10, ['Rajkot', 'Chennai'])\n",
    "tuple2[0]                 # Access first element → 'India'"
   ]
  },
  {
   "cell_type": "code",
   "execution_count": 35,
   "id": "ef038545",
   "metadata": {},
   "outputs": [
    {
     "name": "stdout",
     "output_type": "stream",
     "text": [
      "[1, 2, 3, 4, 5, 6, 7, 8]\n"
     ]
    },
    {
     "data": {
      "text/plain": [
       "8"
      ]
     },
     "execution_count": 35,
     "metadata": {},
     "output_type": "execute_result"
    }
   ],
   "source": [
    "# 15. List Concatenation\n",
    "list1 = [1, 2, 3, 4]\n",
    "list2 = [5, 6, 7, 8]\n",
    "new_list = list1 + list2  # Concatenate lists\n",
    "print(new_list)            # Output: [1, 2, 3, 4, 5, 6, 7, 8]\n",
    "len(new_list)              # Output: 8"
   ]
  },
  {
   "cell_type": "code",
   "execution_count": 37,
   "id": "68e4ce45",
   "metadata": {},
   "outputs": [
    {
     "data": {
      "text/plain": [
       "[1, 2, 3, 4, 5, 6]"
      ]
     },
     "execution_count": 37,
     "metadata": {},
     "output_type": "execute_result"
    }
   ],
   "source": [
    "# 16. Adding Elements to List\n",
    "list3 = [1, 2, 3, 4]\n",
    "new_list = list3 + [5, 6]  # Concatenate another list\n",
    "new_list                    # Output: [1, 2, 3, 4, 5, 6]"
   ]
  },
  {
   "cell_type": "code",
   "execution_count": 42,
   "id": "7a4338b5",
   "metadata": {},
   "outputs": [
    {
     "name": "stdout",
     "output_type": "stream",
     "text": [
      "True\n",
      "False\n",
      "True\n",
      "False\n"
     ]
    }
   ],
   "source": [
    "# 17. Membership Testing\n",
    "tuple3 = (1, 2, 3, 4)\n",
    "print(1 in tuple3)         # True\n",
    "print(5 in tuple3)         # False\n",
    "list3 = [1, 2, 3, 4]\n",
    "print(1 in list3)          # True\n",
    "print(5 in list3)          # False"
   ]
  },
  {
   "cell_type": "code",
   "execution_count": 45,
   "id": "0a5e34bc",
   "metadata": {},
   "outputs": [
    {
     "data": {
      "text/plain": [
       "['Maths', 'Physics', 'Chemistry', 'Computer Science']"
      ]
     },
     "execution_count": 45,
     "metadata": {},
     "output_type": "execute_result"
    }
   ],
   "source": [
    "# 18. List Mutability\n",
    "list1 = [\"Maths\", \"Physics\", \"Chemistry\", \"Biology\"]\n",
    "list1[3]                   # Access 4th element → 'Biology'\n",
    "list1[-1]                  # Access last element → 'Biology'\n",
    "list1[3] = 'Computer Science'  # Modify 4th element\n",
    "list1                       # Output: ['Maths', 'Physics', 'Chemistry', 'Computer Science']"
   ]
  },
  {
   "cell_type": "code",
   "execution_count": null,
   "id": "53d8b28d",
   "metadata": {},
   "outputs": [],
   "source": [
    "# 19. Extend Function\n",
    "list1 = [1, 2, 3, 4]\n",
    "list1.extend([5, 6, 7, 8])  # Extend list with multiple elements\n",
    "len(list1)                   # Output: 8\n",
    "list1                         # Output: [1, 2, 3, 4, 5, 6, 7, 8]"
   ]
  },
  {
   "cell_type": "code",
   "execution_count": null,
   "id": "6b2b716a",
   "metadata": {},
   "outputs": [
    {
     "name": "stdout",
     "output_type": "stream",
     "text": [
      "[1, 2, 3, 4, 4, 6, 7]\n"
     ]
    }
   ],
   "source": [
    "# 20. Append Function\n",
    "list1 = [1, 2, 3, 4]\n",
    "list1.append([5, 6])         # Append a single element (list) at end\n",
    "len(list1)                   # Output: 5\n",
    "list1                         # Output: [1, 2, 3, 4, [5, 6]]"
   ]
  },
  {
   "cell_type": "code",
   "execution_count": null,
   "id": "bdd6939d",
   "metadata": {},
   "outputs": [
    {
     "name": "stdout",
     "output_type": "stream",
     "text": [
      "[1, 2, 3, 5, [1, 2]]\n"
     ]
    }
   ],
   "source": [
    "# 21. Delete Command\n",
    "list1 = [11, 22, 33, 44]\n",
    "del list1[2]                 # Delete element at index 2\n",
    "list1                         # Output: [11, 22, 44]\n",
    "del list1[0:2]               # Delete first two elements\n",
    "list1                         # Output: [44]"
   ]
  },
  {
   "cell_type": "code",
   "execution_count": 55,
   "id": "62e1322c",
   "metadata": {},
   "outputs": [
    {
     "data": {
      "text/plain": [
       "[11, 22, 44]"
      ]
     },
     "execution_count": 55,
     "metadata": {},
     "output_type": "execute_result"
    }
   ],
   "source": [
    "# 22. Pop Method\n",
    "list1 = [11, 22, 33, 44]\n",
    "list1.pop(2)                 # Remove element at index 2 → 33\n",
    "list1                         # Output: [11, 22, 44]"
   ]
  },
  {
   "cell_type": "code",
   "execution_count": null,
   "id": "89d25471",
   "metadata": {},
   "outputs": [
    {
     "data": {
      "text/plain": [
       "[1, 2, 3, 4]"
      ]
     },
     "execution_count": 56,
     "metadata": {},
     "output_type": "execute_result"
    }
   ],
   "source": [
    "# 23. Remove Method\n",
    "list1 = [11, 22, 33, 44, 22]\n",
    "list1.remove(22)             # Remove first occurrence of 22\n",
    "list1.remove(22)             # Remove next occurrence\n",
    "print(list1)                 # Output: [11, 33, 44]"
   ]
  },
  {
   "cell_type": "code",
   "execution_count": 65,
   "id": "71cf139f",
   "metadata": {},
   "outputs": [
    {
     "data": {
      "text/plain": [
       "[12, 9, 7, 5, 2, 1]"
      ]
     },
     "execution_count": 65,
     "metadata": {},
     "output_type": "execute_result"
    }
   ],
   "source": [
    "# 24. Sorting\n",
    "A = [9, 5, 2, 1, 12, 7]\n",
    "A.sort()                     # Sort ascending\n",
    "A                             # Output: [1, 2, 5, 7, 9, 12]\n",
    "A = [9, 5, 2, 1, 12, 7]\n",
    "A.sort(reverse=True)          # Sort descending\n",
    "A                             # Output: [12, 9, 7, 5, 2, 1]"
   ]
  },
  {
   "cell_type": "code",
   "execution_count": null,
   "id": "07afdc56",
   "metadata": {},
   "outputs": [
    {
     "data": {
      "text/plain": [
       "[7, 6, 6, 5, 2, 1, 1, 1]"
      ]
     },
     "execution_count": 64,
     "metadata": {},
     "output_type": "execute_result"
    }
   ],
   "source": [
    "# 25. Sort vs Sorted\n",
    "A = [\"Oranges\", \"Strawberry\", \"Mango\"]\n",
    "B = A.sort()  # Sorts list in place, returns None\n",
    "print(A)  # Output: ['Mango','Oranges','Strawberry']\n",
    "print(B)  # Output: None\n",
    "\n",
    "A = [\"Oranges\", \"Strawberry\", \"Mango\"]\n",
    "A.sort()  # Sorts A permanently\n",
    "A  # Output: ['Mango','Oranges','Strawberry']\n",
    "\n",
    "A = [\"A\", \"C\", \"B\"]\n",
    "B = sorted(A)  # Returns new sorted list\n",
    "print(A)  # Original list unchanged → ['A','C','B']\n",
    "print(B)  # Output: ['A','B','C']"
   ]
  },
  {
   "cell_type": "code",
   "execution_count": null,
   "id": "af12ad5e",
   "metadata": {},
   "outputs": [
    {
     "name": "stdout",
     "output_type": "stream",
     "text": [
      "['A', 'C', 'B']\n",
      "['A', 'B', 'C']\n"
     ]
    }
   ],
   "source": [
    "# 26. Shallow Copy\n",
    "A = [\"Oranges\", \"Strawberry\", \"Mango\"]\n",
    "B = A  # Both refer to same list\n",
    "print(B)\n",
    "print(A)\n",
    "A.pop()  # Remove last element from A\n",
    "A  # Output: ['Oranges','Strawberry']\n",
    "B  # Same output since both share reference\n",
    "\n",
    "A = [\"Oranges\", \"Strawberry\", \"Mango\"]\n",
    "B = A[0:3]  # Creates a shallow copy (slice)\n",
    "print(B)\n",
    "A.pop()  # Modify A\n",
    "A  # Output: ['Oranges','Strawberry']\n",
    "B  # Remains unchanged"
   ]
  },
  {
   "cell_type": "code",
   "execution_count": 77,
   "id": "17c69cf5",
   "metadata": {},
   "outputs": [
    {
     "name": "stdout",
     "output_type": "stream",
     "text": [
      "('Monty Python', 'British', 1969, 'Python')\n"
     ]
    }
   ],
   "source": [
    "# 27. Adding Element to Tuple\n",
    "tup1 = ('Monty Python', 'British', 1969)\n",
    "list1 = list(tup1)  # Convert tuple to list\n",
    "list1.append(\"Python\")  # Add new element\n",
    "tup2 = tuple(list1)  # Convert back to tuple\n",
    "print(tup2)  # Output: ('Monty Python','British',1969,'Python')"
   ]
  },
  {
   "cell_type": "code",
   "execution_count": 81,
   "id": "541ff272",
   "metadata": {},
   "outputs": [
    {
     "data": {
      "text/plain": [
       "tuple"
      ]
     },
     "execution_count": 81,
     "metadata": {},
     "output_type": "execute_result"
    }
   ],
   "source": [
    "# 28. Tuple Concatenation\n",
    "tuple_new = ('Monty Python', 'British', 1969)\n",
    "a = 'Python'\n",
    "tuple_new2 = tuple_new + (a,)  # Add single element (with comma)\n",
    "tuple_new2  # Output: ('Monty Python','British',1969,'Python')\n",
    "type(tuple_new2)  # Output: <class 'tuple'>"
   ]
  },
  {
   "cell_type": "code",
   "execution_count": 82,
   "id": "3e9f16b3",
   "metadata": {},
   "outputs": [
    {
     "name": "stdout",
     "output_type": "stream",
     "text": [
      "Ravi\n",
      "Kumar\n",
      "003\n",
      "Ravi\n",
      "Kumar\n",
      "003\n"
     ]
    }
   ],
   "source": [
    "# 29. String Splitting\n",
    "input_str = 'Kumar_Ravi_003'\n",
    "str1 = input_str[0:5]  # 'Kumar'\n",
    "str2 = input_str[6:10]  # 'Ravi'\n",
    "str3 = input_str[11:]  # '003'\n",
    "print(input_str[6:10])  # Output: Ravi\n",
    "print(input_str[0:5])  # Output: Kumar\n",
    "print(input_str[-3:])  # Output: 003\n",
    "list1 = input_str.split('_')  # Split using '_'\n",
    "print(list1[1])  # Output: Ravi\n",
    "print(list1[0])  # Output: Kumar\n",
    "print(list1[2])  # Output: 003"
   ]
  },
  {
   "cell_type": "code",
   "execution_count": null,
   "id": "bb651dd0",
   "metadata": {},
   "outputs": [
    {
     "data": {
      "text/plain": [
       "'Ravi'"
      ]
     },
     "execution_count": 85,
     "metadata": {},
     "output_type": "execute_result"
    }
   ],
   "source": [
    "# 30. Nested List Operations\n",
    "input_list = [['SAS', 'R'], ['Tableau', 'SQL'], ['Python', 'Java']]\n",
    "input_list[-1][0]  # Output: 'Python'\n",
    "input_list[2][0]  # Output: 'Python'\n",
    "input_list[1][0] = 'Power BI'  # Modify inner list\n",
    "input_list  # [['SAS','R'],['Power BI','SQL'],['Python','Java']]\n",
    "input_list.extend([\"C\", \"C++\"])  # Add extra elements\n",
    "input_list  # Output: [['SAS','R'],['Power BI','SQL'],['Python','Java'],'C','C++']"
   ]
  },
  {
   "cell_type": "code",
   "execution_count": 94,
   "id": "8402b302",
   "metadata": {},
   "outputs": [
    {
     "name": "stdout",
     "output_type": "stream",
     "text": [
      "['SAS', 'R', 'PYTHON', 'SPARK']\n"
     ]
    }
   ],
   "source": [
    "# 31. Replace Element in List\n",
    "input_list = ['SAS', 'R', 'PYTHON', 'SPSS']\n",
    "input_list[3] = 'SPARK'  # Replace last element\n",
    "input_list  # ['SAS','R','PYTHON','SPARK']\n",
    "\n",
    "input_list = ['SAS', 'R', 'PYTHON', 'SPSS']\n",
    "input_list.remove('SPSS')  # Remove specific element\n",
    "input_list.append('SPARK')  # Add new element\n",
    "input_list  # ['SAS','R','PYTHON','SPARK']\n",
    "\n",
    "input_list = ['SAS', 'R', 'PYTHON', 'SPSS']\n",
    "input_list[-1] = 'SPARK'  # Replace last element directly\n",
    "print(input_list)  # Output: ['SAS','R','PYTHON','SPARK']"
   ]
  },
  {
   "cell_type": "code",
   "execution_count": null,
   "id": "acab4a96",
   "metadata": {},
   "outputs": [
    {
     "data": {
      "text/plain": [
       "['SAS', 'R', 'PYTHON', 'SPARK']"
      ]
     },
     "execution_count": 93,
     "metadata": {},
     "output_type": "execute_result"
    }
   ],
   "source": [
    "# 32. Join List to String\n",
    "input_list = ['Pythons syntax is easy to learn', 'Pythons syntax is very clear']\n",
    "result = ' & '.join(input_list)  # Join list with separator\n",
    "print(result)  # Output: Pythons syntax is easy to learn & Pythons syntax is very clear"
   ]
  },
  {
   "cell_type": "code",
   "execution_count": null,
   "id": "9f046d62",
   "metadata": {},
   "outputs": [],
   "source": [
    "# 33. Questions Section\n",
    "# Q1: Indexing from End\n",
    "list_1 = [2, 33, 222, 14, 25]\n",
    "list_1[-5]  # Output: 2 → first element from end (same as list_1[0])"
   ]
  },
  {
   "cell_type": "code",
   "execution_count": 96,
   "id": "c563179e",
   "metadata": {},
   "outputs": [
    {
     "name": "stdout",
     "output_type": "stream",
     "text": [
      "[]\n"
     ]
    }
   ],
   "source": [
    "# Q2: Clear List\n",
    "word = ['1', '2', '3', '4']\n",
    "word[:] = []  # Clears all elements\n",
    "print(word)  # Output: []"
   ]
  },
  {
   "cell_type": "code",
   "execution_count": 102,
   "id": "ffb76ff6",
   "metadata": {},
   "outputs": [
    {
     "name": "stdout",
     "output_type": "stream",
     "text": [
      "['five', 'four', 'one', 'six', 'three', 'two']\n",
      "['one', 'two', 'three', 'four', 'five', 'six']\n"
     ]
    }
   ],
   "source": [
    "# Q3: Sorted List \n",
    "L = ['one', 'two', 'three', 'four', 'five', 'six'] \n",
    "print(sorted(L))  # Returns a new sorted list \n",
    "print(L)  # Original list remains unchanged"
   ]
  },
  {
   "cell_type": "code",
   "execution_count": null,
   "id": "0dc4bfd5",
   "metadata": {},
   "outputs": [],
   "source": []
  },
  {
   "cell_type": "code",
   "execution_count": null,
   "id": "4134037e",
   "metadata": {},
   "outputs": [],
   "source": []
  },
  {
   "cell_type": "code",
   "execution_count": null,
   "id": "3f5bc3ca",
   "metadata": {},
   "outputs": [],
   "source": []
  },
  {
   "cell_type": "code",
   "execution_count": null,
   "id": "0fa58b51",
   "metadata": {},
   "outputs": [],
   "source": []
  },
  {
   "cell_type": "code",
   "execution_count": null,
   "id": "a337e145",
   "metadata": {},
   "outputs": [],
   "source": []
  },
  {
   "cell_type": "code",
   "execution_count": null,
   "id": "32da0c0a",
   "metadata": {},
   "outputs": [],
   "source": []
  },
  {
   "cell_type": "code",
   "execution_count": null,
   "id": "a449bea5",
   "metadata": {},
   "outputs": [],
   "source": []
  },
  {
   "cell_type": "code",
   "execution_count": null,
   "id": "7e131250",
   "metadata": {},
   "outputs": [],
   "source": []
  },
  {
   "cell_type": "code",
   "execution_count": null,
   "id": "194bcdf4",
   "metadata": {},
   "outputs": [],
   "source": []
  },
  {
   "cell_type": "code",
   "execution_count": null,
   "id": "a851452c",
   "metadata": {},
   "outputs": [],
   "source": []
  },
  {
   "cell_type": "code",
   "execution_count": null,
   "id": "2e5bd0c3",
   "metadata": {},
   "outputs": [],
   "source": []
  },
  {
   "cell_type": "code",
   "execution_count": null,
   "id": "4a8521d3",
   "metadata": {},
   "outputs": [],
   "source": []
  },
  {
   "cell_type": "code",
   "execution_count": null,
   "id": "a2733e83",
   "metadata": {},
   "outputs": [],
   "source": []
  },
  {
   "cell_type": "code",
   "execution_count": null,
   "id": "87e037e9",
   "metadata": {},
   "outputs": [],
   "source": []
  },
  {
   "cell_type": "code",
   "execution_count": null,
   "id": "fc3cd5c8",
   "metadata": {},
   "outputs": [],
   "source": []
  },
  {
   "cell_type": "code",
   "execution_count": null,
   "id": "d138d90b",
   "metadata": {},
   "outputs": [],
   "source": []
  },
  {
   "cell_type": "code",
   "execution_count": null,
   "id": "bc55e838",
   "metadata": {},
   "outputs": [],
   "source": []
  },
  {
   "cell_type": "code",
   "execution_count": null,
   "id": "ef017885",
   "metadata": {},
   "outputs": [],
   "source": []
  }
 ],
 "metadata": {
  "kernelspec": {
   "display_name": "Python 3",
   "language": "python",
   "name": "python3"
  },
  "language_info": {
   "codemirror_mode": {
    "name": "ipython",
    "version": 3
   },
   "file_extension": ".py",
   "mimetype": "text/x-python",
   "name": "python",
   "nbconvert_exporter": "python",
   "pygments_lexer": "ipython3",
   "version": "3.12.0"
  }
 },
 "nbformat": 4,
 "nbformat_minor": 5
}
